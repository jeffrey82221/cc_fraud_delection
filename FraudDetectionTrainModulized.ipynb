{
  "nbformat": 4,
  "nbformat_minor": 0,
  "metadata": {
    "colab": {
      "name": "FraudDetectionTrainModulized.ipynb",
      "provenance": [],
      "collapsed_sections": [],
      "toc_visible": true,
      "authorship_tag": "ABX9TyMj/DGUVsVFn+SJoBayUvPt",
      "include_colab_link": true
    },
    "kernelspec": {
      "name": "python3",
      "display_name": "Python 3"
    }
  },
  "cells": [
    {
      "cell_type": "markdown",
      "metadata": {
        "id": "view-in-github",
        "colab_type": "text"
      },
      "source": [
        "<a href=\"https://colab.research.google.com/github/jeffrey82221/cc_fraud_delection/blob/main/FraudDetectionTrainModulized.ipynb\" target=\"_parent\"><img src=\"https://colab.research.google.com/assets/colab-badge.svg\" alt=\"Open In Colab\"/></a>"
      ]
    },
    {
      "cell_type": "markdown",
      "metadata": {
        "id": "vFF2n1FVVuru"
      },
      "source": [
        "# Strategies:\n",
        "## I.  Use the computers of all team members to speed up the experiments: \n",
        "- Ask all members to upload train.csv to Google Drive\n",
        "- Ask all members to adopt my colab notebook. \n",
        "\n",
        "## II. 大家持續想出新的特徵因子加到下面的表中\n",
        "- 需要有一個人當BA\n",
        "  - 負責激發大家發想特徵因子(可以參考下面III的「前N次交易與當前交易行為的差異」)。\n",
        "  - 蒐集大家的特徵因子。\n",
        "  - 對特徵因子做排序提供給Engineer。\n",
        "- 需要有一個ppt的leader\n",
        "  - 負責構思投影片架構\n",
        "  - 分配投影片工作給大家\n",
        "  - 和Engineer詢問建模流程\n",
        "  - 和Engineer要求圖表的生成。\n",
        "\n",
        "## III. Implement following methods:\n",
        "- 前處理的調整:\n",
        "  - For the importance features, try to use other more reasonable value to replace NULL value rather than simply using -1 because some features might encounter negative values. \n",
        "  - Apply Logscale to the positive, currency-related features.\n",
        "  - 有無綁定行動支付(合併成一大項)\n",
        "\n",
        "- 特徵的增減 \n",
        "  - Remove MCC as we do not use MCHNO too \n",
        "  - Add AGE \n",
        "  - Now we use 100 features, why not try 100+N and change N instead? \n",
        "  - For each feature with NULL, create a new feature describe wether the original feature is NULL or not.\n",
        "  - ID類特徵的加入 (Add ID-like feature as embeddings)\n",
        "  - 前N次交易與當前交易行為的差異:\n",
        "    - 同一個消費者或同一個卡，前1次2次3次...N次刷卡的金額與當前刷卡金額的差異。\n",
        "    - 同一個消費者或同一個卡，前1次2次3次...N次刷卡的金額距離當前刷卡的時間。\n",
        "    - 同一個消費者或同一個卡，前1次2次3次...N次刷卡的特店是否和當前刷卡的特店是一樣的? (或是類似的--利用EMBEDDING來做計算)。\n",
        "    - 同一個消費者或同一個卡，前1次2次3次...N次刷卡的特店是否和當前刷卡的特店是一樣的國家、城市或一樣的MCC? (或是類似的--利用EMBEDDING來做計算)。\n",
        "    - 同一個消費者或同一個卡，前1次2次3次...N次刷卡的和當前刷卡的交易型態、交易類別、網路交易註記、行動支付註記等等是否相同? (或是類似的--利用EMBEDDING來做計算)。\n",
        "  - 訓練方法的調整:\n",
        "    - Upsample rather than downsample \n",
        "    - Tune the sampling rate \n",
        "    - Tune the hyperparameters \n",
        "- Q: \n",
        "  - LabelEncoder是甚麼原理??\n",
        "\n"
      ]
    },
    {
      "cell_type": "markdown",
      "metadata": {
        "id": "5FniL9-3RbuS"
      },
      "source": [
        "# Import Packages "
      ]
    },
    {
      "cell_type": "code",
      "metadata": {
        "id": "wC-NEf77Rd7y"
      },
      "source": [
        "import pandas as pd\n",
        "import numpy as np\n",
        "import seaborn as sns\n",
        "import matplotlib.pyplot as plt\n",
        "from datetime import datetime\n",
        "from sklearn.preprocessing import LabelEncoder\n",
        "import lightgbm as lgb\n",
        "from sklearn.metrics import recall_score, precision_score, precision_recall_curve\n",
        "from sklearn.model_selection import train_test_split"
      ],
      "execution_count": 1,
      "outputs": []
    },
    {
      "cell_type": "markdown",
      "metadata": {
        "id": "W1odd3b4R7IK"
      },
      "source": [
        "# Data Preprocessing"
      ]
    },
    {
      "cell_type": "code",
      "metadata": {
        "id": "V2_QovgzRk0C"
      },
      "source": [
        "import copy\n",
        "############################ Preprocessing ###################################\n",
        "def extend_with_detailed_time(data, weekday = True, hour = True):\n",
        "  '''\n",
        "  Add WEEKDAY and HOUR and convert DATETIME into strptime format. \n",
        "  '''\n",
        "  c_data = copy.copy(data)\n",
        "  c_data[\"DATETIME\"] = c_data[\"DATETIME\"].apply(lambda x: datetime.strptime(x, \"%Y-%m-%d %H:%M:%S\"))\n",
        "  if weekday:\n",
        "    c_data[\"WEEKDAY\"] = c_data[\"DATETIME\"].apply(lambda x: x.weekday() + 1)\n",
        "  if hour:\n",
        "    c_data[\"HOUR\"] = c_data[\"DATETIME\"].apply(lambda x: x.hour + 1)\n",
        "  return c_data \n",
        "\n",
        "def extend_with_time_difference_features(data, max_time_shift = 5, pivot_feature = 'CHID'):\n",
        "  # CHID: 卡人ID\n",
        "  # CANO: 交易卡號\n",
        "  c_data = copy.copy(data)\n",
        "  assert max_time_shift > 2\n",
        "  def date_diff(data, time_shift, pivot_feature):\n",
        "    df = copy.copy(data)\n",
        "    df[\"shift\"] = df.groupby([pivot_feature])[\"DATETIME\"].shift(time_shift)\n",
        "    name = pivot_feature + '_DIF' + str(time_shift)\n",
        "    df[name] = (df[\"DATETIME\"] - df['shift']).dt.total_seconds().fillna(0)\n",
        "    # \n",
        "    df = df.drop(\"shift\", 1)\n",
        "    return df\n",
        "  for time_shift in range(1, max_time_shift + 1):\n",
        "    print(\"add time difference between current and \" + str(time_shift) + \"th-last transaction\")\n",
        "    c_data = date_diff(c_data, time_shift, pivot_feature)\n",
        "  return c_data\n",
        "\n",
        "def preprocess_null_values(data):\n",
        "  # 將空值填補\n",
        "  c_data = copy.copy(data)\n",
        "  c_data[\n",
        "        c_data.select_dtypes(include=['object']).columns\n",
        "      ] = c_data[\n",
        "        c_data.select_dtypes(include=['object']).columns\n",
        "      ].fillna(\"NULL\")\n",
        "  c_data[\n",
        "      c_data.select_dtypes(include=['float64', 'int64']).columns\n",
        "    ] = c_data[\n",
        "      c_data.select_dtypes(include=['float64', 'int64']).columns\n",
        "    ].fillna(-1)\n",
        "  return c_data\n",
        "\n",
        "\n",
        "def encode_labels(data):\n",
        "  #將object欄位使用Label Encoder\n",
        "  c_data = copy.copy(data)\n",
        "  labelencoder = LabelEncoder()\n",
        "  obj_col = c_data.select_dtypes(include=['object']).columns.to_list()\n",
        "  for col in obj_col:\n",
        "      c_data[col] = labelencoder.fit_transform(c_data[col])\n",
        "  return c_data\n",
        "def preprocessing(data):\n",
        "  r_data = preprocess_null_values(data)\n",
        "  return encode_labels(r_data)\n",
        "############################ Training Preprocess ############################\n",
        "def resample(data, sampling_rate=0.7, sample_type='downsample'):\n",
        "  # note that testing data should not be re-sampled. \n",
        "  assert sample_type == 'downsample' or sample_type == 'upsample'\n",
        "  c_data = copy.copy(data) \n",
        "  #將資料切分為train&test\n",
        "  if sample_type == 'downsample': \n",
        "    df_fraud = c_data[c_data[\"FRAUD_IND\"] == 1]\n",
        "    df_not_fraud = c_data[c_data[\"FRAUD_IND\"] != 1].sample(frac=sampling_rate, random_state=42)\n",
        "  elif sample_type == 'upsample':\n",
        "    df_fraud = c_data[c_data[\"FRAUD_IND\"] == 1].sample(frac=1./sampling_rate, replace = True, random_state=42)\n",
        "    df_not_fraud = c_data[c_data[\"FRAUD_IND\"] != 1]\n",
        "  df_train = pd.concat([df_fraud, df_not_fraud], 0)\n",
        "  return df_train\n",
        "def create_X_y(data, drop_list = ['FRAUD_IND']):\n",
        "  X = data.drop(drop_list, 1)\n",
        "  y = data[\"FRAUD_IND\"]\n",
        "  return X,y\n",
        "\n",
        "############################ Model Build ####################################\n",
        "def train_lgb(x_train, x_test, y_train, y_test, max_depth = 8, learning_rate = 0.05, n_estimators = 1000):\n",
        "  # n_estimators: number of trees \n",
        "  lgb_train = lgb.Dataset(x_train, y_train)\n",
        "  lgb_test = lgb.Dataset(x_test, y_test)\n",
        "  params = {\n",
        "      \"boosting_type\": \"gbdt\",\n",
        "      \"objective\": \"binary\",\n",
        "      \"metric\": \"binary_logloss\",\n",
        "      \"max_depth\": max_depth,\n",
        "      \"learning_rate\": learning_rate,\n",
        "      \"n_estimators\": n_estimators,\n",
        "  }\n",
        "  trained_model = lgb.train(\n",
        "      params,\n",
        "      lgb_train,\n",
        "      num_boost_round=5000,\n",
        "      valid_sets=[lgb_train, lgb_test],\n",
        "      early_stopping_rounds=30,\n",
        "      verbose_eval=50\n",
        "  )\n",
        "  return trained_model\n",
        "##### Get Result Generated from Model #####################################\n",
        "def evaluate(clf, x_test, y_test):\n",
        "  y_pred = clf.predict(x_test)\n",
        "  precision, recall, threshold = precision_recall_curve(y_test, y_pred)\n",
        "  performance = {\"precision\": precision[0:-1],\n",
        "                \"recall\": recall[0:-1],\n",
        "                \"threshold\": threshold\n",
        "                }\n",
        "  performance[\"f1\"] = 2 * (performance[\"precision\"] * performance[\"recall\"]) / (performance[\"precision\"] + performance[\"recall\"])\n",
        "  performance = pd.DataFrame(performance)\n",
        "  thr = performance[performance[\"f1\"] == max(performance[\"f1\"])][\"threshold\"].values[0]\n",
        "  recall = performance[performance[\"f1\"] == max(performance[\"f1\"])][\"recall\"].values[0]\n",
        "  precision = performance[performance[\"f1\"] == max(performance[\"f1\"])][\"precision\"].values[0]\n",
        "  print(\"Recall Score:\", recall)\n",
        "  print(\"Precision Score:\", precision)\n",
        "  print(\"F1 Score:\", 2 * (precision * recall) / (precision + recall))\n",
        "  print(\"Threshold: \", thr)\n",
        "def get_important_feature_table(clf, x_train):\n",
        "  importance = {\n",
        "  \"col\": np.array(x_train.columns),\n",
        "  \"imp\": lgb.Booster.feature_importance(clf)\n",
        "  }\n",
        "  df_imp = pd.DataFrame(importance).sort_values(by='imp', ascending=False)\n",
        "  return df_imp"
      ],
      "execution_count": 24,
      "outputs": []
    },
    {
      "cell_type": "code",
      "metadata": {
        "colab": {
          "base_uri": "https://localhost:8080/"
        },
        "id": "_sxJ7bBb2GI5",
        "outputId": "715d84ee-c98b-464a-c0f0-9b58226c6f70"
      },
      "source": [
        "from google.colab import drive\n",
        "drive.mount('/content/drive')\n",
        "#匯入資料\n",
        "train_data = pd.read_csv('/content/drive/MyDrive/智金輪習Kaggle/train.csv')\n",
        "test_data = \"先不給你們\"\n",
        "#查看資料筆數\n",
        "print(\"shape of train data:\" , train_data.shape)\n",
        "#print(\"shape of test data:\" , test_data.shape)"
      ],
      "execution_count": 3,
      "outputs": [
        {
          "output_type": "stream",
          "text": [
            "Drive already mounted at /content/drive; to attempt to forcibly remount, call drive.mount(\"/content/drive\", force_remount=True).\n",
            "shape of train data: (533202, 59)\n"
          ],
          "name": "stdout"
        }
      ]
    },
    {
      "cell_type": "code",
      "metadata": {
        "colab": {
          "base_uri": "https://localhost:8080/"
        },
        "id": "0hOgw39OpD_1",
        "outputId": "40a69037-3579-424f-831c-4289922568f4"
      },
      "source": [
        "train_data['FRAUD_IND'].mean()"
      ],
      "execution_count": 55,
      "outputs": [
        {
          "output_type": "execute_result",
          "data": {
            "text/plain": [
              "0.14388730724941018"
            ]
          },
          "metadata": {
            "tags": []
          },
          "execution_count": 55
        }
      ]
    },
    {
      "cell_type": "markdown",
      "metadata": {
        "id": "kPYueGd1LKtc"
      },
      "source": [
        "# Reduced Run and Generate Important Feature Table "
      ]
    },
    {
      "cell_type": "code",
      "metadata": {
        "colab": {
          "base_uri": "https://localhost:8080/",
          "height": 1000
        },
        "id": "ejSsh8rnLMvd",
        "outputId": "522c15a2-0b26-46f0-b0a5-997ff2982cc4"
      },
      "source": [
        "from google.colab import drive\n",
        "drive.mount('/content/drive')\n",
        "#匯入資料\n",
        "train_data = pd.read_csv('/content/drive/MyDrive/智金輪習Kaggle/train.csv')\n",
        "test_data = \"先不給你們\"\n",
        "#查看資料筆數\n",
        "print(\"shape of train data:\" , train_data.shape)\n",
        "#print(\"shape of test data:\" , test_data.shape)\n",
        "# add AGE \n",
        "# remove weekday and hour \n",
        "tmp_train_data = extend_with_detailed_time(train_data, \n",
        "  weekday = False, hour = False)\n",
        "preprocessed_train_data = preprocessing(tmp_train_data)\n",
        "resampled_train_data = resample(preprocessed_train_data, \n",
        "  sampling_rate=0.7, sample_type='downsample')\n",
        "X, y = create_X_y(resampled_train_data, \n",
        "  drop_list = [\"FRAUD_IND\", \"TXKEY\", \"DATETIME\", \"CANO\", \"CHID\", \"ACQIC\", \"MCHNO\", \"AGE\"])\n",
        "val_percentage = 0.33\n",
        "x_train, x_test, y_train, y_test = train_test_split(X, y, test_size=val_percentage, \n",
        "  shuffle=True, random_state=42)\n",
        "clf = train_lgb(x_train, x_test, y_train, y_test, \n",
        "  max_depth = 8, learning_rate = 0.05, n_estimators = 1000)\n",
        "evaluate(clf, x_test, y_test)\n",
        "important_feature_table = get_important_feature_table(clf, x_train)\n",
        "important_feature_table"
      ],
      "execution_count": 27,
      "outputs": [
        {
          "output_type": "stream",
          "text": [
            "Drive already mounted at /content/drive; to attempt to forcibly remount, call drive.mount(\"/content/drive\", force_remount=True).\n",
            "shape of train data: (533202, 59)\n"
          ],
          "name": "stdout"
        },
        {
          "output_type": "stream",
          "text": [
            "/usr/local/lib/python3.6/dist-packages/lightgbm/engine.py:118: UserWarning: Found `n_estimators` in params. Will use it instead of argument\n",
            "  warnings.warn(\"Found `{}` in params. Will use it instead of argument\".format(alias))\n"
          ],
          "name": "stderr"
        },
        {
          "output_type": "stream",
          "text": [
            "Training until validation scores don't improve for 30 rounds.\n",
            "[50]\ttraining's binary_logloss: 0.162201\tvalid_1's binary_logloss: 0.162768\n",
            "[100]\ttraining's binary_logloss: 0.13457\tvalid_1's binary_logloss: 0.13604\n",
            "[150]\ttraining's binary_logloss: 0.12292\tvalid_1's binary_logloss: 0.125427\n",
            "[200]\ttraining's binary_logloss: 0.115362\tvalid_1's binary_logloss: 0.118842\n",
            "[250]\ttraining's binary_logloss: 0.109307\tvalid_1's binary_logloss: 0.113742\n",
            "[300]\ttraining's binary_logloss: 0.103638\tvalid_1's binary_logloss: 0.108953\n",
            "[350]\ttraining's binary_logloss: 0.0989313\tvalid_1's binary_logloss: 0.105065\n",
            "[400]\ttraining's binary_logloss: 0.0948469\tvalid_1's binary_logloss: 0.101827\n",
            "[450]\ttraining's binary_logloss: 0.0910325\tvalid_1's binary_logloss: 0.0986804\n",
            "[500]\ttraining's binary_logloss: 0.0874282\tvalid_1's binary_logloss: 0.0957317\n",
            "[550]\ttraining's binary_logloss: 0.0840682\tvalid_1's binary_logloss: 0.0930062\n",
            "[600]\ttraining's binary_logloss: 0.081057\tvalid_1's binary_logloss: 0.0906978\n",
            "[650]\ttraining's binary_logloss: 0.0782779\tvalid_1's binary_logloss: 0.0886361\n",
            "[700]\ttraining's binary_logloss: 0.0756893\tvalid_1's binary_logloss: 0.0866863\n",
            "[750]\ttraining's binary_logloss: 0.0733625\tvalid_1's binary_logloss: 0.084959\n",
            "[800]\ttraining's binary_logloss: 0.0712952\tvalid_1's binary_logloss: 0.0834625\n",
            "[850]\ttraining's binary_logloss: 0.0691694\tvalid_1's binary_logloss: 0.0818883\n",
            "[900]\ttraining's binary_logloss: 0.0674926\tvalid_1's binary_logloss: 0.0807932\n",
            "[950]\ttraining's binary_logloss: 0.0655437\tvalid_1's binary_logloss: 0.0793593\n",
            "[1000]\ttraining's binary_logloss: 0.0636926\tvalid_1's binary_logloss: 0.0779864\n",
            "Did not meet early stopping. Best iteration is:\n",
            "[1000]\ttraining's binary_logloss: 0.0636926\tvalid_1's binary_logloss: 0.0779864\n",
            "Recall Score: 0.9389421933232892\n",
            "Precision Score: 0.926380848067595\n",
            "F1 Score: 0.9326192257708819\n",
            "Threshold:  0.5136044918384114\n"
          ],
          "name": "stdout"
        },
        {
          "output_type": "execute_result",
          "data": {
            "text/html": [
              "<div>\n",
              "<style scoped>\n",
              "    .dataframe tbody tr th:only-of-type {\n",
              "        vertical-align: middle;\n",
              "    }\n",
              "\n",
              "    .dataframe tbody tr th {\n",
              "        vertical-align: top;\n",
              "    }\n",
              "\n",
              "    .dataframe thead th {\n",
              "        text-align: right;\n",
              "    }\n",
              "</style>\n",
              "<table border=\"1\" class=\"dataframe\">\n",
              "  <thead>\n",
              "    <tr style=\"text-align: right;\">\n",
              "      <th></th>\n",
              "      <th>col</th>\n",
              "      <th>imp</th>\n",
              "    </tr>\n",
              "  </thead>\n",
              "  <tbody>\n",
              "    <tr>\n",
              "      <th>27</th>\n",
              "      <td>CC_VINTAGE</td>\n",
              "      <td>2721</td>\n",
              "    </tr>\n",
              "    <tr>\n",
              "      <th>0</th>\n",
              "      <td>MCC</td>\n",
              "      <td>2437</td>\n",
              "    </tr>\n",
              "    <tr>\n",
              "      <th>10</th>\n",
              "      <td>SCITY</td>\n",
              "      <td>1885</td>\n",
              "    </tr>\n",
              "    <tr>\n",
              "      <th>8</th>\n",
              "      <td>FLAM1</td>\n",
              "      <td>1810</td>\n",
              "    </tr>\n",
              "    <tr>\n",
              "      <th>37</th>\n",
              "      <td>BONUS_POINTS</td>\n",
              "      <td>1545</td>\n",
              "    </tr>\n",
              "    <tr>\n",
              "      <th>9</th>\n",
              "      <td>STOCN</td>\n",
              "      <td>1483</td>\n",
              "    </tr>\n",
              "    <tr>\n",
              "      <th>43</th>\n",
              "      <td>CURRENT_FEE</td>\n",
              "      <td>1266</td>\n",
              "    </tr>\n",
              "    <tr>\n",
              "      <th>14</th>\n",
              "      <td>AGNO</td>\n",
              "      <td>1214</td>\n",
              "    </tr>\n",
              "    <tr>\n",
              "      <th>46</th>\n",
              "      <td>CURRENT_PURCH_AMT</td>\n",
              "      <td>1190</td>\n",
              "    </tr>\n",
              "    <tr>\n",
              "      <th>35</th>\n",
              "      <td>ACCT_VINTAGE</td>\n",
              "      <td>1190</td>\n",
              "    </tr>\n",
              "    <tr>\n",
              "      <th>36</th>\n",
              "      <td>AVAILABLE_LIMIT_AMT</td>\n",
              "      <td>1167</td>\n",
              "    </tr>\n",
              "    <tr>\n",
              "      <th>33</th>\n",
              "      <td>OCUP_CODE</td>\n",
              "      <td>1028</td>\n",
              "    </tr>\n",
              "    <tr>\n",
              "      <th>41</th>\n",
              "      <td>CREDIT_USE_RATE</td>\n",
              "      <td>978</td>\n",
              "    </tr>\n",
              "    <tr>\n",
              "      <th>39</th>\n",
              "      <td>CREDIT_LIMIT_AMT</td>\n",
              "      <td>930</td>\n",
              "    </tr>\n",
              "    <tr>\n",
              "      <th>15</th>\n",
              "      <td>CATP1</td>\n",
              "      <td>797</td>\n",
              "    </tr>\n",
              "    <tr>\n",
              "      <th>28</th>\n",
              "      <td>EDU_CODE</td>\n",
              "      <td>797</td>\n",
              "    </tr>\n",
              "    <tr>\n",
              "      <th>45</th>\n",
              "      <td>CURRENT_INSTALLMENT_PURCH_AMT</td>\n",
              "      <td>699</td>\n",
              "    </tr>\n",
              "    <tr>\n",
              "      <th>44</th>\n",
              "      <td>CURRENT_INSTALLMENT_BAL</td>\n",
              "      <td>674</td>\n",
              "    </tr>\n",
              "    <tr>\n",
              "      <th>2</th>\n",
              "      <td>ETYMD</td>\n",
              "      <td>552</td>\n",
              "    </tr>\n",
              "    <tr>\n",
              "      <th>26</th>\n",
              "      <td>CC_CUST_LEVEL</td>\n",
              "      <td>537</td>\n",
              "    </tr>\n",
              "    <tr>\n",
              "      <th>34</th>\n",
              "      <td>POSITION_CODE</td>\n",
              "      <td>465</td>\n",
              "    </tr>\n",
              "    <tr>\n",
              "      <th>22</th>\n",
              "      <td>CGDCT</td>\n",
              "      <td>381</td>\n",
              "    </tr>\n",
              "    <tr>\n",
              "      <th>29</th>\n",
              "      <td>GENDER_CODE</td>\n",
              "      <td>334</td>\n",
              "    </tr>\n",
              "    <tr>\n",
              "      <th>50</th>\n",
              "      <td>REVOLVING_INTEREST</td>\n",
              "      <td>285</td>\n",
              "    </tr>\n",
              "    <tr>\n",
              "      <th>23</th>\n",
              "      <td>APPFG</td>\n",
              "      <td>279</td>\n",
              "    </tr>\n",
              "    <tr>\n",
              "      <th>30</th>\n",
              "      <td>INCOME_RANGE_CODE</td>\n",
              "      <td>277</td>\n",
              "    </tr>\n",
              "    <tr>\n",
              "      <th>20</th>\n",
              "      <td>TSCFG</td>\n",
              "      <td>271</td>\n",
              "    </tr>\n",
              "    <tr>\n",
              "      <th>3</th>\n",
              "      <td>ECFG</td>\n",
              "      <td>271</td>\n",
              "    </tr>\n",
              "    <tr>\n",
              "      <th>48</th>\n",
              "      <td>LST_CYCLE_UNPAID_BAL</td>\n",
              "      <td>255</td>\n",
              "    </tr>\n",
              "    <tr>\n",
              "      <th>31</th>\n",
              "      <td>MARITAL_STATUS_CODE</td>\n",
              "      <td>251</td>\n",
              "    </tr>\n",
              "    <tr>\n",
              "      <th>40</th>\n",
              "      <td>CREDIT_REVOLVING_RATE</td>\n",
              "      <td>234</td>\n",
              "    </tr>\n",
              "    <tr>\n",
              "      <th>21</th>\n",
              "      <td>LSCFG</td>\n",
              "      <td>224</td>\n",
              "    </tr>\n",
              "    <tr>\n",
              "      <th>49</th>\n",
              "      <td>REVOLVING_AMT</td>\n",
              "      <td>182</td>\n",
              "    </tr>\n",
              "    <tr>\n",
              "      <th>38</th>\n",
              "      <td>CC_PAY_LEVEL_CODE</td>\n",
              "      <td>181</td>\n",
              "    </tr>\n",
              "    <tr>\n",
              "      <th>1</th>\n",
              "      <td>CONTP</td>\n",
              "      <td>167</td>\n",
              "    </tr>\n",
              "    <tr>\n",
              "      <th>19</th>\n",
              "      <td>CATP2</td>\n",
              "      <td>142</td>\n",
              "    </tr>\n",
              "    <tr>\n",
              "      <th>16</th>\n",
              "      <td>CUORG</td>\n",
              "      <td>121</td>\n",
              "    </tr>\n",
              "    <tr>\n",
              "      <th>17</th>\n",
              "      <td>FEEFG</td>\n",
              "      <td>109</td>\n",
              "    </tr>\n",
              "    <tr>\n",
              "      <th>12</th>\n",
              "      <td>PAY_TYPE</td>\n",
              "      <td>98</td>\n",
              "    </tr>\n",
              "    <tr>\n",
              "      <th>25</th>\n",
              "      <td>ANDFG</td>\n",
              "      <td>88</td>\n",
              "    </tr>\n",
              "    <tr>\n",
              "      <th>24</th>\n",
              "      <td>SAMFG</td>\n",
              "      <td>85</td>\n",
              "    </tr>\n",
              "    <tr>\n",
              "      <th>18</th>\n",
              "      <td>FEDFG</td>\n",
              "      <td>79</td>\n",
              "    </tr>\n",
              "    <tr>\n",
              "      <th>13</th>\n",
              "      <td>FALLBACK_IND</td>\n",
              "      <td>62</td>\n",
              "    </tr>\n",
              "    <tr>\n",
              "      <th>42</th>\n",
              "      <td>CURRENT_CASH_ADV_AMT</td>\n",
              "      <td>61</td>\n",
              "    </tr>\n",
              "    <tr>\n",
              "      <th>4</th>\n",
              "      <td>INSFG</td>\n",
              "      <td>61</td>\n",
              "    </tr>\n",
              "    <tr>\n",
              "      <th>47</th>\n",
              "      <td>CURRENT_VIO_AMT</td>\n",
              "      <td>48</td>\n",
              "    </tr>\n",
              "    <tr>\n",
              "      <th>11</th>\n",
              "      <td>OVRLT</td>\n",
              "      <td>29</td>\n",
              "    </tr>\n",
              "    <tr>\n",
              "      <th>5</th>\n",
              "      <td>ITERM</td>\n",
              "      <td>25</td>\n",
              "    </tr>\n",
              "    <tr>\n",
              "      <th>32</th>\n",
              "      <td>NATION_CODE</td>\n",
              "      <td>18</td>\n",
              "    </tr>\n",
              "    <tr>\n",
              "      <th>6</th>\n",
              "      <td>BNSFG</td>\n",
              "      <td>16</td>\n",
              "    </tr>\n",
              "    <tr>\n",
              "      <th>7</th>\n",
              "      <td>BNSPT</td>\n",
              "      <td>1</td>\n",
              "    </tr>\n",
              "  </tbody>\n",
              "</table>\n",
              "</div>"
            ],
            "text/plain": [
              "                              col   imp\n",
              "27                     CC_VINTAGE  2721\n",
              "0                             MCC  2437\n",
              "10                          SCITY  1885\n",
              "8                           FLAM1  1810\n",
              "37                   BONUS_POINTS  1545\n",
              "9                           STOCN  1483\n",
              "43                    CURRENT_FEE  1266\n",
              "14                           AGNO  1214\n",
              "46              CURRENT_PURCH_AMT  1190\n",
              "35                   ACCT_VINTAGE  1190\n",
              "36            AVAILABLE_LIMIT_AMT  1167\n",
              "33                      OCUP_CODE  1028\n",
              "41                CREDIT_USE_RATE   978\n",
              "39               CREDIT_LIMIT_AMT   930\n",
              "15                          CATP1   797\n",
              "28                       EDU_CODE   797\n",
              "45  CURRENT_INSTALLMENT_PURCH_AMT   699\n",
              "44        CURRENT_INSTALLMENT_BAL   674\n",
              "2                           ETYMD   552\n",
              "26                  CC_CUST_LEVEL   537\n",
              "34                  POSITION_CODE   465\n",
              "22                          CGDCT   381\n",
              "29                    GENDER_CODE   334\n",
              "50             REVOLVING_INTEREST   285\n",
              "23                          APPFG   279\n",
              "30              INCOME_RANGE_CODE   277\n",
              "20                          TSCFG   271\n",
              "3                            ECFG   271\n",
              "48           LST_CYCLE_UNPAID_BAL   255\n",
              "31            MARITAL_STATUS_CODE   251\n",
              "40          CREDIT_REVOLVING_RATE   234\n",
              "21                          LSCFG   224\n",
              "49                  REVOLVING_AMT   182\n",
              "38              CC_PAY_LEVEL_CODE   181\n",
              "1                           CONTP   167\n",
              "19                          CATP2   142\n",
              "16                          CUORG   121\n",
              "17                          FEEFG   109\n",
              "12                       PAY_TYPE    98\n",
              "25                          ANDFG    88\n",
              "24                          SAMFG    85\n",
              "18                          FEDFG    79\n",
              "13                   FALLBACK_IND    62\n",
              "42           CURRENT_CASH_ADV_AMT    61\n",
              "4                           INSFG    61\n",
              "47                CURRENT_VIO_AMT    48\n",
              "11                          OVRLT    29\n",
              "5                           ITERM    25\n",
              "32                    NATION_CODE    18\n",
              "6                           BNSFG    16\n",
              "7                           BNSPT     1"
            ]
          },
          "metadata": {
            "tags": []
          },
          "execution_count": 27
        }
      ]
    },
    {
      "cell_type": "markdown",
      "metadata": {
        "id": "Bgm5DHQX_0hC"
      },
      "source": [
        "# First Run "
      ]
    },
    {
      "cell_type": "code",
      "metadata": {
        "id": "QkuXaT99bs_a",
        "colab": {
          "base_uri": "https://localhost:8080/"
        },
        "outputId": "9f94726d-ddd7-4f5d-bc56-1c6d4f3c52a7"
      },
      "source": [
        "tmp_train_data = extend_with_detailed_time(train_data, \n",
        "  weekday = True, hour = True)\n",
        "preprocessed_train_data = preprocessing(tmp_train_data)\n",
        "resampled_train_data = resample(preprocessed_train_data, \n",
        "  sampling_rate=0.7, sample_type='downsample')\n",
        "X, y = create_X_y(resampled_train_data, \n",
        "  drop_list = [\"FRAUD_IND\", \"TXKEY\", \"DATETIME\", \"CANO\", \"CHID\", \"ACQIC\", \"MCHNO\", \"AGE\"])\n",
        "val_percentage = 0.33\n",
        "x_train, x_test, y_train, y_test = train_test_split(X, y, test_size=val_percentage, \n",
        "  shuffle=True, random_state=42)\n",
        "clf = train_lgb(x_train, x_test, y_train, y_test, \n",
        "  max_depth = 8, learning_rate = 0.05, n_estimators = 1000)\n",
        "evaluate(clf, x_test, y_test)\n",
        "#important_feature_table = get_important_feature_table(clf, x_train)\n",
        "#important_feature_table"
      ],
      "execution_count": 6,
      "outputs": [
        {
          "output_type": "stream",
          "text": [
            "/usr/local/lib/python3.6/dist-packages/lightgbm/engine.py:118: UserWarning: Found `n_estimators` in params. Will use it instead of argument\n",
            "  warnings.warn(\"Found `{}` in params. Will use it instead of argument\".format(alias))\n"
          ],
          "name": "stderr"
        },
        {
          "output_type": "stream",
          "text": [
            "Training until validation scores don't improve for 30 rounds.\n",
            "[50]\ttraining's binary_logloss: 0.162279\tvalid_1's binary_logloss: 0.162807\n",
            "[100]\ttraining's binary_logloss: 0.134768\tvalid_1's binary_logloss: 0.136324\n",
            "[150]\ttraining's binary_logloss: 0.122707\tvalid_1's binary_logloss: 0.125311\n",
            "[200]\ttraining's binary_logloss: 0.114838\tvalid_1's binary_logloss: 0.118302\n",
            "[250]\ttraining's binary_logloss: 0.108433\tvalid_1's binary_logloss: 0.112826\n",
            "[300]\ttraining's binary_logloss: 0.103261\tvalid_1's binary_logloss: 0.108748\n",
            "[350]\ttraining's binary_logloss: 0.0987153\tvalid_1's binary_logloss: 0.104977\n",
            "[400]\ttraining's binary_logloss: 0.0947501\tvalid_1's binary_logloss: 0.101738\n",
            "[450]\ttraining's binary_logloss: 0.0907433\tvalid_1's binary_logloss: 0.0984731\n",
            "[500]\ttraining's binary_logloss: 0.0871949\tvalid_1's binary_logloss: 0.0957686\n",
            "[550]\ttraining's binary_logloss: 0.0840042\tvalid_1's binary_logloss: 0.0932831\n",
            "[600]\ttraining's binary_logloss: 0.0807209\tvalid_1's binary_logloss: 0.0907092\n",
            "[650]\ttraining's binary_logloss: 0.077878\tvalid_1's binary_logloss: 0.0885916\n",
            "[700]\ttraining's binary_logloss: 0.0751942\tvalid_1's binary_logloss: 0.0865896\n",
            "[750]\ttraining's binary_logloss: 0.0725535\tvalid_1's binary_logloss: 0.0846285\n",
            "[800]\ttraining's binary_logloss: 0.0703982\tvalid_1's binary_logloss: 0.0830579\n",
            "[850]\ttraining's binary_logloss: 0.0684993\tvalid_1's binary_logloss: 0.0817401\n",
            "[900]\ttraining's binary_logloss: 0.0664595\tvalid_1's binary_logloss: 0.0802043\n",
            "[950]\ttraining's binary_logloss: 0.0644348\tvalid_1's binary_logloss: 0.0787406\n",
            "[1000]\ttraining's binary_logloss: 0.0626813\tvalid_1's binary_logloss: 0.0775181\n",
            "Did not meet early stopping. Best iteration is:\n",
            "[1000]\ttraining's binary_logloss: 0.0626813\tvalid_1's binary_logloss: 0.0775181\n",
            "Recall Score: 0.9395369122194909\n",
            "Precision Score: 0.926496461664777\n",
            "F1 Score: 0.9329711214787691\n",
            "Threshold:  0.5103514674209937\n"
          ],
          "name": "stdout"
        }
      ]
    },
    {
      "cell_type": "markdown",
      "metadata": {
        "id": "zo-0CKcq_2PS"
      },
      "source": [
        "# Second Run "
      ]
    },
    {
      "cell_type": "code",
      "metadata": {
        "colab": {
          "base_uri": "https://localhost:8080/"
        },
        "id": "yBAHTua0DjVL",
        "outputId": "409647bd-dce3-4cf6-eaf3-e1f6f4e3f213"
      },
      "source": [
        "from google.colab import drive\n",
        "drive.mount('/content/drive')\n",
        "#匯入資料\n",
        "train_data = pd.read_csv('/content/drive/MyDrive/智金輪習Kaggle/train.csv')\n",
        "test_data = \"先不給你們\"\n",
        "#查看資料筆數\n",
        "print(\"shape of train data:\" , train_data.shape)\n",
        "#print(\"shape of test data:\" , test_data.shape)"
      ],
      "execution_count": 7,
      "outputs": [
        {
          "output_type": "stream",
          "text": [
            "Drive already mounted at /content/drive; to attempt to forcibly remount, call drive.mount(\"/content/drive\", force_remount=True).\n",
            "shape of train data: (533202, 59)\n"
          ],
          "name": "stdout"
        }
      ]
    },
    {
      "cell_type": "code",
      "metadata": {
        "colab": {
          "base_uri": "https://localhost:8080/"
        },
        "id": "aqZg-ptIAk9s",
        "outputId": "86b8ba57-e51b-4c58-8a2f-8d853cbf4322"
      },
      "source": [
        "tmp_train_data = extend_with_detailed_time(train_data, \n",
        "  weekday = True, hour = True)\n",
        "train_tmp_data = extend_with_time_difference_features(tmp_train_data, \n",
        "  max_time_shift = 5, pivot_feature = 'CHID')\n",
        "preprocessed_train_data = preprocessing(train_tmp_data)\n",
        "resampled_train_data = resample(preprocessed_train_data, \n",
        "  sampling_rate=0.7, sample_type='downsample')\n",
        "X, y = create_X_y(resampled_train_data, \n",
        "  drop_list = [\"FRAUD_IND\", \"TXKEY\", \"DATETIME\", \"CANO\", \"CHID\", \"ACQIC\", \"MCHNO\", \"AGE\"])\n",
        "val_percentage = 0.33\n",
        "x_train, x_test, y_train, y_test = train_test_split(X, y, \n",
        "  test_size=val_percentage, shuffle=True, random_state=42)\n",
        "clf = train_lgb(x_train, x_test, y_train, y_test, \n",
        "  max_depth = 8, learning_rate = 0.05, n_estimators = 1000)\n",
        "evaluate(clf, x_test, y_test)\n",
        "#important_feature_table = get_important_feature_table(clf, x_train)\n",
        "#important_feature_table"
      ],
      "execution_count": 8,
      "outputs": [
        {
          "output_type": "stream",
          "text": [
            "add time difference between current and 1th-last transaction\n",
            "add time difference between current and 2th-last transaction\n",
            "add time difference between current and 3th-last transaction\n",
            "add time difference between current and 4th-last transaction\n"
          ],
          "name": "stdout"
        },
        {
          "output_type": "stream",
          "text": [
            "/usr/local/lib/python3.6/dist-packages/lightgbm/engine.py:118: UserWarning: Found `n_estimators` in params. Will use it instead of argument\n",
            "  warnings.warn(\"Found `{}` in params. Will use it instead of argument\".format(alias))\n"
          ],
          "name": "stderr"
        },
        {
          "output_type": "stream",
          "text": [
            "Training until validation scores don't improve for 30 rounds.\n",
            "[50]\ttraining's binary_logloss: 0.103183\tvalid_1's binary_logloss: 0.102447\n",
            "[100]\ttraining's binary_logloss: 0.0733892\tvalid_1's binary_logloss: 0.0742938\n",
            "[150]\ttraining's binary_logloss: 0.0644384\tvalid_1's binary_logloss: 0.0664961\n",
            "[200]\ttraining's binary_logloss: 0.0586591\tvalid_1's binary_logloss: 0.0616757\n",
            "[250]\ttraining's binary_logloss: 0.0537821\tvalid_1's binary_logloss: 0.0575237\n",
            "[300]\ttraining's binary_logloss: 0.0496841\tvalid_1's binary_logloss: 0.0543032\n",
            "[350]\ttraining's binary_logloss: 0.0459843\tvalid_1's binary_logloss: 0.0514022\n",
            "[400]\ttraining's binary_logloss: 0.042668\tvalid_1's binary_logloss: 0.0487851\n",
            "[450]\ttraining's binary_logloss: 0.0398339\tvalid_1's binary_logloss: 0.0465592\n",
            "[500]\ttraining's binary_logloss: 0.0376665\tvalid_1's binary_logloss: 0.0449057\n",
            "[550]\ttraining's binary_logloss: 0.0352642\tvalid_1's binary_logloss: 0.043089\n",
            "[600]\ttraining's binary_logloss: 0.0332634\tvalid_1's binary_logloss: 0.0416404\n",
            "[650]\ttraining's binary_logloss: 0.0313461\tvalid_1's binary_logloss: 0.0403096\n",
            "[700]\ttraining's binary_logloss: 0.0296088\tvalid_1's binary_logloss: 0.0390069\n",
            "[750]\ttraining's binary_logloss: 0.0278927\tvalid_1's binary_logloss: 0.0376884\n",
            "[800]\ttraining's binary_logloss: 0.026445\tvalid_1's binary_logloss: 0.0365973\n",
            "[850]\ttraining's binary_logloss: 0.0249872\tvalid_1's binary_logloss: 0.0354825\n",
            "[900]\ttraining's binary_logloss: 0.0238354\tvalid_1's binary_logloss: 0.0346651\n",
            "[950]\ttraining's binary_logloss: 0.0225807\tvalid_1's binary_logloss: 0.0337342\n",
            "[1000]\ttraining's binary_logloss: 0.0213806\tvalid_1's binary_logloss: 0.0328489\n",
            "Did not meet early stopping. Best iteration is:\n",
            "[1000]\ttraining's binary_logloss: 0.0213806\tvalid_1's binary_logloss: 0.0328489\n",
            "Recall Score: 0.9747046229482198\n",
            "Precision Score: 0.9714308294147864\n",
            "F1 Score: 0.9730649725899979\n",
            "Threshold:  0.4291508763565983\n"
          ],
          "name": "stdout"
        }
      ]
    },
    {
      "cell_type": "markdown",
      "metadata": {
        "id": "ppWPur3aNUcA"
      },
      "source": [
        "# Extending Features "
      ]
    },
    {
      "cell_type": "code",
      "metadata": {
        "colab": {
          "base_uri": "https://localhost:8080/"
        },
        "id": "NnDdzLzINZYN",
        "outputId": "aab489d7-5d15-4fae-ec0b-2bff8c66c615"
      },
      "source": [
        "from google.colab import drive\n",
        "drive.mount('/content/drive')\n",
        "#匯入資料\n",
        "train_data = pd.read_csv('/content/drive/MyDrive/智金輪習Kaggle/train.csv')\n",
        "test_data = \"先不給你們\"\n",
        "#查看資料筆數\n",
        "print(\"shape of train data:\" , train_data.shape)\n",
        "#print(\"shape of test data:\" , test_data.shape)"
      ],
      "execution_count": 11,
      "outputs": [
        {
          "output_type": "stream",
          "text": [
            "Drive already mounted at /content/drive; to attempt to forcibly remount, call drive.mount(\"/content/drive\", force_remount=True).\n",
            "shape of train data: (533202, 59)\n"
          ],
          "name": "stdout"
        }
      ]
    },
    {
      "cell_type": "code",
      "metadata": {
        "id": "PWfegUBQKwCJ"
      },
      "source": [
        "tmp_train_data = extend_with_detailed_time(train_data, \n",
        "  weekday = True, hour = True)\n",
        "train_tmp_data = extend_with_time_difference_features(tmp_train_data, \n",
        "  max_time_shift = 5, pivot_feature = 'CHID')\n",
        "train_tmp_data = extend_with_time_difference_features(tmp_train_data, \n",
        "  max_time_shift = 5, pivot_feature = 'CANO')\n",
        "preprocessed_train_data = preprocessing(train_tmp_data)\n",
        "resampled_train_data = resample(preprocessed_train_data, \n",
        "  sampling_rate=0.7, sample_type='downsample')\n",
        "X, y = create_X_y(resampled_train_data, \n",
        "  drop_list = [\"FRAUD_IND\", \"TXKEY\", \"DATETIME\", \"CANO\", \"CHID\", \"ACQIC\", \"MCHNO\", \"AGE\"])\n",
        "val_percentage = 0.33\n",
        "x_train, x_test, y_train, y_test = train_test_split(X, y, \n",
        "  test_size=val_percentage, shuffle=True, random_state=42)\n",
        "clf = train_lgb(x_train, x_test, y_train, y_test, \n",
        "  max_depth = 8, learning_rate = 0.05, n_estimators = 1000)\n",
        "evaluate(clf, x_test, y_test)\n",
        "#important_feature_table = get_important_feature_table(clf, x_train)\n",
        "#important_feature_table"
      ],
      "execution_count": null,
      "outputs": []
    },
    {
      "cell_type": "markdown",
      "metadata": {
        "id": "XFIx2JK9ggNL"
      },
      "source": [
        "# Increase Transaction Count "
      ]
    },
    {
      "cell_type": "markdown",
      "metadata": {
        "id": "eKtsNxDrPrys"
      },
      "source": [
        "## Increase Transaction count for time difference from 5 to 10 "
      ]
    },
    {
      "cell_type": "code",
      "metadata": {
        "colab": {
          "base_uri": "https://localhost:8080/",
          "height": 1000
        },
        "id": "mdN2oodvORGR",
        "outputId": "dd04793c-e4e4-4b9e-adc4-3dc9cca35cf1"
      },
      "source": [
        "from google.colab import drive\n",
        "drive.mount('/content/drive')\n",
        "#匯入資料\n",
        "train_data = pd.read_csv('/content/drive/MyDrive/智金輪習Kaggle/train.csv')\n",
        "test_data = \"先不給你們\"\n",
        "#查看資料筆數\n",
        "print(\"shape of train data:\" , train_data.shape)\n",
        "#print(\"shape of test data:\" , test_data.shape)\n",
        "tmp_train_data = extend_with_detailed_time(train_data, \n",
        "  weekday = True, hour = True)\n",
        "train_tmp_data = extend_with_time_difference_features(tmp_train_data, \n",
        "  max_time_shift = 10, pivot_feature = 'CHID')\n",
        "#train_tmp_data = extend_with_time_difference_features(tmp_train_data, \n",
        "#  max_time_shift = 5, pivot_feature = 'CANO')\n",
        "preprocessed_train_data = preprocessing(train_tmp_data)\n",
        "resampled_train_data = resample(preprocessed_train_data, \n",
        "  sampling_rate=0.7, sample_type='downsample')\n",
        "removed_unimportant_feature_count = 2\n",
        "X, y = create_X_y(resampled_train_data, \n",
        "  drop_list = list(set([\"FRAUD_IND\", \"TXKEY\", \"DATETIME\", \"CANO\", \"CHID\", \"ACQIC\", \"MCHNO\", \"AGE\"] + \\\n",
        "  important_feature_table.set_index('col').index[-(removed_unimportant_feature_count):].tolist()))\n",
        ")\n",
        "val_percentage = 0.33\n",
        "x_train, x_test, y_train, y_test = train_test_split(X, y, \n",
        "  test_size=val_percentage, shuffle=True, random_state=42)\n",
        "clf = train_lgb(x_train, x_test, y_train, y_test, \n",
        "  max_depth = 8, learning_rate = 0.05, n_estimators = 1000)\n",
        "evaluate(clf, x_test, y_test)\n",
        "#important_feature_table = get_important_feature_table(clf, x_train)\n",
        "#important_feature_table"
      ],
      "execution_count": 25,
      "outputs": [
        {
          "output_type": "stream",
          "text": [
            "Drive already mounted at /content/drive; to attempt to forcibly remount, call drive.mount(\"/content/drive\", force_remount=True).\n",
            "shape of train data: (533202, 59)\n",
            "add time difference between current and 1th-last transaction\n",
            "add time difference between current and 2th-last transaction\n",
            "add time difference between current and 3th-last transaction\n",
            "add time difference between current and 4th-last transaction\n",
            "add time difference between current and 5th-last transaction\n",
            "add time difference between current and 6th-last transaction\n",
            "add time difference between current and 7th-last transaction\n",
            "add time difference between current and 8th-last transaction\n",
            "add time difference between current and 9th-last transaction\n",
            "add time difference between current and 10th-last transaction\n"
          ],
          "name": "stdout"
        },
        {
          "output_type": "stream",
          "text": [
            "/usr/local/lib/python3.6/dist-packages/lightgbm/engine.py:118: UserWarning: Found `n_estimators` in params. Will use it instead of argument\n",
            "  warnings.warn(\"Found `{}` in params. Will use it instead of argument\".format(alias))\n"
          ],
          "name": "stderr"
        },
        {
          "output_type": "stream",
          "text": [
            "Training until validation scores don't improve for 30 rounds.\n",
            "[50]\ttraining's binary_logloss: 0.0892547\tvalid_1's binary_logloss: 0.0893711\n",
            "[100]\ttraining's binary_logloss: 0.0582204\tvalid_1's binary_logloss: 0.0598786\n",
            "[150]\ttraining's binary_logloss: 0.0492312\tvalid_1's binary_logloss: 0.0519083\n",
            "[200]\ttraining's binary_logloss: 0.0444188\tvalid_1's binary_logloss: 0.0478067\n",
            "[250]\ttraining's binary_logloss: 0.0402722\tvalid_1's binary_logloss: 0.0444012\n",
            "[300]\ttraining's binary_logloss: 0.0367237\tvalid_1's binary_logloss: 0.0414856\n",
            "[350]\ttraining's binary_logloss: 0.0333854\tvalid_1's binary_logloss: 0.0388164\n",
            "[400]\ttraining's binary_logloss: 0.0306773\tvalid_1's binary_logloss: 0.0366652\n",
            "[450]\ttraining's binary_logloss: 0.0281007\tvalid_1's binary_logloss: 0.0347014\n",
            "[500]\ttraining's binary_logloss: 0.0258136\tvalid_1's binary_logloss: 0.0329116\n",
            "[550]\ttraining's binary_logloss: 0.0238282\tvalid_1's binary_logloss: 0.0314154\n",
            "[600]\ttraining's binary_logloss: 0.0219955\tvalid_1's binary_logloss: 0.0300659\n",
            "[650]\ttraining's binary_logloss: 0.0205665\tvalid_1's binary_logloss: 0.0289697\n",
            "[700]\ttraining's binary_logloss: 0.0192018\tvalid_1's binary_logloss: 0.0279645\n",
            "[750]\ttraining's binary_logloss: 0.0180353\tvalid_1's binary_logloss: 0.0270939\n",
            "[800]\ttraining's binary_logloss: 0.0168555\tvalid_1's binary_logloss: 0.0261909\n",
            "[850]\ttraining's binary_logloss: 0.015759\tvalid_1's binary_logloss: 0.0252962\n",
            "[900]\ttraining's binary_logloss: 0.0147744\tvalid_1's binary_logloss: 0.0245738\n",
            "[950]\ttraining's binary_logloss: 0.0138087\tvalid_1's binary_logloss: 0.0238285\n",
            "[1000]\ttraining's binary_logloss: 0.0129947\tvalid_1's binary_logloss: 0.0232502\n",
            "Did not meet early stopping. Best iteration is:\n",
            "[1000]\ttraining's binary_logloss: 0.0129947\tvalid_1's binary_logloss: 0.0232502\n",
            "Recall Score: 0.9803742764253429\n",
            "Precision Score: 0.9800245729459791\n",
            "F1 Score: 0.9801993934949358\n",
            "Threshold:  0.4838232335707505\n"
          ],
          "name": "stdout"
        },
        {
          "output_type": "execute_result",
          "data": {
            "text/html": [
              "<div>\n",
              "<style scoped>\n",
              "    .dataframe tbody tr th:only-of-type {\n",
              "        vertical-align: middle;\n",
              "    }\n",
              "\n",
              "    .dataframe tbody tr th {\n",
              "        vertical-align: top;\n",
              "    }\n",
              "\n",
              "    .dataframe thead th {\n",
              "        text-align: right;\n",
              "    }\n",
              "</style>\n",
              "<table border=\"1\" class=\"dataframe\">\n",
              "  <thead>\n",
              "    <tr style=\"text-align: right;\">\n",
              "      <th></th>\n",
              "      <th>col</th>\n",
              "      <th>imp</th>\n",
              "    </tr>\n",
              "  </thead>\n",
              "  <tbody>\n",
              "    <tr>\n",
              "      <th>25</th>\n",
              "      <td>CC_VINTAGE</td>\n",
              "      <td>2041</td>\n",
              "    </tr>\n",
              "    <tr>\n",
              "      <th>0</th>\n",
              "      <td>MCC</td>\n",
              "      <td>1614</td>\n",
              "    </tr>\n",
              "    <tr>\n",
              "      <th>8</th>\n",
              "      <td>SCITY</td>\n",
              "      <td>1464</td>\n",
              "    </tr>\n",
              "    <tr>\n",
              "      <th>6</th>\n",
              "      <td>FLAM1</td>\n",
              "      <td>1352</td>\n",
              "    </tr>\n",
              "    <tr>\n",
              "      <th>33</th>\n",
              "      <td>ACCT_VINTAGE</td>\n",
              "      <td>1276</td>\n",
              "    </tr>\n",
              "    <tr>\n",
              "      <th>...</th>\n",
              "      <td>...</td>\n",
              "      <td>...</td>\n",
              "    </tr>\n",
              "    <tr>\n",
              "      <th>4</th>\n",
              "      <td>INSFG</td>\n",
              "      <td>50</td>\n",
              "    </tr>\n",
              "    <tr>\n",
              "      <th>9</th>\n",
              "      <td>OVRLT</td>\n",
              "      <td>35</td>\n",
              "    </tr>\n",
              "    <tr>\n",
              "      <th>11</th>\n",
              "      <td>FALLBACK_IND</td>\n",
              "      <td>33</td>\n",
              "    </tr>\n",
              "    <tr>\n",
              "      <th>5</th>\n",
              "      <td>ITERM</td>\n",
              "      <td>13</td>\n",
              "    </tr>\n",
              "    <tr>\n",
              "      <th>30</th>\n",
              "      <td>NATION_CODE</td>\n",
              "      <td>13</td>\n",
              "    </tr>\n",
              "  </tbody>\n",
              "</table>\n",
              "<p>61 rows × 2 columns</p>\n",
              "</div>"
            ],
            "text/plain": [
              "             col   imp\n",
              "25    CC_VINTAGE  2041\n",
              "0            MCC  1614\n",
              "8          SCITY  1464\n",
              "6          FLAM1  1352\n",
              "33  ACCT_VINTAGE  1276\n",
              "..           ...   ...\n",
              "4          INSFG    50\n",
              "9          OVRLT    35\n",
              "11  FALLBACK_IND    33\n",
              "5          ITERM    13\n",
              "30   NATION_CODE    13\n",
              "\n",
              "[61 rows x 2 columns]"
            ]
          },
          "metadata": {
            "tags": []
          },
          "execution_count": 25
        }
      ]
    },
    {
      "cell_type": "markdown",
      "metadata": {
        "id": "3nsB2Gw3go4e"
      },
      "source": [
        "## Increase Transaction count for time difference from 5 to 20 "
      ]
    },
    {
      "cell_type": "code",
      "metadata": {
        "colab": {
          "base_uri": "https://localhost:8080/"
        },
        "id": "JVzH4cLegnIw",
        "outputId": "a7c0df9f-caa3-44a0-b55a-9ed972f306e5"
      },
      "source": [
        "from google.colab import drive\n",
        "drive.mount('/content/drive')\n",
        "#匯入資料\n",
        "train_data = pd.read_csv('/content/drive/MyDrive/智金輪習Kaggle/train.csv')\n",
        "test_data = \"先不給你們\"\n",
        "#查看資料筆數\n",
        "print(\"shape of train data:\" , train_data.shape)\n",
        "#print(\"shape of test data:\" , test_data.shape)\n",
        "tmp_train_data = extend_with_detailed_time(train_data, \n",
        "  weekday = True, hour = True)\n",
        "train_tmp_data = extend_with_time_difference_features(tmp_train_data, \n",
        "  max_time_shift = 20, pivot_feature = 'CHID')\n",
        "#train_tmp_data = extend_with_time_difference_features(tmp_train_data, \n",
        "#  max_time_shift = 5, pivot_feature = 'CANO')\n",
        "preprocessed_train_data = preprocessing(train_tmp_data)\n",
        "resampled_train_data = resample(preprocessed_train_data, \n",
        "  sampling_rate=0.7, sample_type='downsample')\n",
        "removed_unimportant_feature_count = 5\n",
        "X, y = create_X_y(resampled_train_data, \n",
        "  drop_list = list(set([\"FRAUD_IND\", \"TXKEY\", \"DATETIME\", \"CANO\", \"CHID\", \"ACQIC\", \"MCHNO\", \"AGE\"] + \\\n",
        "  important_feature_table.set_index('col').index[-(removed_unimportant_feature_count):].tolist()))\n",
        ")\n",
        "val_percentage = 0.33\n",
        "x_train, x_test, y_train, y_test = train_test_split(X, y, \n",
        "  test_size=val_percentage, shuffle=True, random_state=42)\n",
        "clf = train_lgb(x_train, x_test, y_train, y_test, \n",
        "  max_depth = 8, learning_rate = 0.05, n_estimators = 1000)\n",
        "evaluate(clf, x_test, y_test)\n",
        "#important_feature_table = get_important_feature_table(clf, x_train)\n",
        "#important_feature_table"
      ],
      "execution_count": 37,
      "outputs": [
        {
          "output_type": "stream",
          "text": [
            "Drive already mounted at /content/drive; to attempt to forcibly remount, call drive.mount(\"/content/drive\", force_remount=True).\n",
            "shape of train data: (533202, 59)\n",
            "add time difference between current and 1th-last transaction\n",
            "add time difference between current and 2th-last transaction\n",
            "add time difference between current and 3th-last transaction\n",
            "add time difference between current and 4th-last transaction\n",
            "add time difference between current and 5th-last transaction\n",
            "add time difference between current and 6th-last transaction\n",
            "add time difference between current and 7th-last transaction\n",
            "add time difference between current and 8th-last transaction\n",
            "add time difference between current and 9th-last transaction\n",
            "add time difference between current and 10th-last transaction\n",
            "add time difference between current and 11th-last transaction\n",
            "add time difference between current and 12th-last transaction\n",
            "add time difference between current and 13th-last transaction\n",
            "add time difference between current and 14th-last transaction\n",
            "add time difference between current and 15th-last transaction\n",
            "add time difference between current and 16th-last transaction\n",
            "add time difference between current and 17th-last transaction\n",
            "add time difference between current and 18th-last transaction\n",
            "add time difference between current and 19th-last transaction\n",
            "add time difference between current and 20th-last transaction\n"
          ],
          "name": "stdout"
        },
        {
          "output_type": "stream",
          "text": [
            "/usr/local/lib/python3.6/dist-packages/lightgbm/engine.py:118: UserWarning: Found `n_estimators` in params. Will use it instead of argument\n",
            "  warnings.warn(\"Found `{}` in params. Will use it instead of argument\".format(alias))\n"
          ],
          "name": "stderr"
        },
        {
          "output_type": "stream",
          "text": [
            "Training until validation scores don't improve for 30 rounds.\n",
            "[50]\ttraining's binary_logloss: 0.083666\tvalid_1's binary_logloss: 0.0839237\n",
            "[100]\ttraining's binary_logloss: 0.0522189\tvalid_1's binary_logloss: 0.0540179\n",
            "[150]\ttraining's binary_logloss: 0.0434371\tvalid_1's binary_logloss: 0.0461507\n",
            "[200]\ttraining's binary_logloss: 0.0390603\tvalid_1's binary_logloss: 0.0424071\n",
            "[250]\ttraining's binary_logloss: 0.0351947\tvalid_1's binary_logloss: 0.0391872\n",
            "[300]\ttraining's binary_logloss: 0.0323212\tvalid_1's binary_logloss: 0.036856\n",
            "[350]\ttraining's binary_logloss: 0.0296248\tvalid_1's binary_logloss: 0.0347479\n",
            "[400]\ttraining's binary_logloss: 0.027224\tvalid_1's binary_logloss: 0.0327181\n",
            "[450]\ttraining's binary_logloss: 0.0251559\tvalid_1's binary_logloss: 0.0310547\n",
            "[500]\ttraining's binary_logloss: 0.0229929\tvalid_1's binary_logloss: 0.0294841\n",
            "[550]\ttraining's binary_logloss: 0.0211482\tvalid_1's binary_logloss: 0.0281075\n",
            "[600]\ttraining's binary_logloss: 0.0193928\tvalid_1's binary_logloss: 0.0266691\n",
            "[650]\ttraining's binary_logloss: 0.0179639\tvalid_1's binary_logloss: 0.0256464\n",
            "[700]\ttraining's binary_logloss: 0.016644\tvalid_1's binary_logloss: 0.0247067\n",
            "[750]\ttraining's binary_logloss: 0.0154126\tvalid_1's binary_logloss: 0.0237928\n",
            "[800]\ttraining's binary_logloss: 0.0144018\tvalid_1's binary_logloss: 0.0230482\n",
            "[850]\ttraining's binary_logloss: 0.0131942\tvalid_1's binary_logloss: 0.0221201\n",
            "[900]\ttraining's binary_logloss: 0.012276\tvalid_1's binary_logloss: 0.021482\n",
            "[950]\ttraining's binary_logloss: 0.011519\tvalid_1's binary_logloss: 0.0209403\n",
            "[1000]\ttraining's binary_logloss: 0.0107914\tvalid_1's binary_logloss: 0.020398\n",
            "Did not meet early stopping. Best iteration is:\n",
            "[1000]\ttraining's binary_logloss: 0.0107914\tvalid_1's binary_logloss: 0.020398\n",
            "Recall Score: 0.9836254063912457\n",
            "Precision Score: 0.9821845678767964\n",
            "F1 Score: 0.982904459103425\n",
            "Threshold:  0.4981942164802951\n"
          ],
          "name": "stdout"
        }
      ]
    },
    {
      "cell_type": "code",
      "metadata": {
        "colab": {
          "base_uri": "https://localhost:8080/",
          "height": 1000
        },
        "id": "73_hF35rQrss",
        "outputId": "0f314323-7f29-4edd-9133-fdd3a0aa0fa4"
      },
      "source": [
        "from google.colab import drive\n",
        "drive.mount('/content/drive')\n",
        "#匯入資料\n",
        "train_data = pd.read_csv('/content/drive/MyDrive/智金輪習Kaggle/train.csv')\n",
        "test_data = \"先不給你們\"\n",
        "#查看資料筆數\n",
        "print(\"shape of train data:\" , train_data.shape)\n",
        "#print(\"shape of test data:\" , test_data.shape)\n",
        "tmp_train_data = extend_with_detailed_time(train_data, \n",
        "  weekday = True, hour = True)\n",
        "train_tmp_data = extend_with_time_difference_features(tmp_train_data, \n",
        "  max_time_shift = 10, pivot_feature = 'CHID')\n",
        "#train_tmp_data = extend_with_time_difference_features(tmp_train_data, \n",
        "#  max_time_shift = 5, pivot_feature = 'CANO')\n",
        "preprocessed_train_data = preprocessing(train_tmp_data)\n",
        "resampled_train_data = resample(preprocessed_train_data, \n",
        "  sampling_rate=0.7, sample_type='downsample')\n",
        "removed_unimportant_feature_count = 10\n",
        "X, y = create_X_y(resampled_train_data, \n",
        "  drop_list = list(set([\"FRAUD_IND\", \"TXKEY\", \"DATETIME\", \"CANO\", \"CHID\", \"ACQIC\", \"MCHNO\", \"AGE\"] + \\\n",
        "  important_feature_table.set_index('col').index[-(removed_unimportant_feature_count):].tolist()))\n",
        ")\n",
        "val_percentage = 0.33\n",
        "x_train, x_test, y_train, y_test = train_test_split(X, y, \n",
        "  test_size=val_percentage, shuffle=True, random_state=42)\n",
        "clf = train_lgb(x_train, x_test, y_train, y_test, \n",
        "  max_depth = 8, learning_rate = 0.05, n_estimators = 1000)\n",
        "evaluate(clf, x_test, y_test)\n",
        "important_feature_table = get_important_feature_table(clf, x_train)\n",
        "important_feature_table"
      ],
      "execution_count": 26,
      "outputs": [
        {
          "output_type": "stream",
          "text": [
            "Drive already mounted at /content/drive; to attempt to forcibly remount, call drive.mount(\"/content/drive\", force_remount=True).\n",
            "shape of train data: (533202, 59)\n",
            "add time difference between current and 1th-last transaction\n",
            "add time difference between current and 2th-last transaction\n",
            "add time difference between current and 3th-last transaction\n",
            "add time difference between current and 4th-last transaction\n",
            "add time difference between current and 5th-last transaction\n",
            "add time difference between current and 6th-last transaction\n",
            "add time difference between current and 7th-last transaction\n",
            "add time difference between current and 8th-last transaction\n",
            "add time difference between current and 9th-last transaction\n",
            "add time difference between current and 10th-last transaction\n"
          ],
          "name": "stdout"
        },
        {
          "output_type": "stream",
          "text": [
            "/usr/local/lib/python3.6/dist-packages/lightgbm/engine.py:118: UserWarning: Found `n_estimators` in params. Will use it instead of argument\n",
            "  warnings.warn(\"Found `{}` in params. Will use it instead of argument\".format(alias))\n"
          ],
          "name": "stderr"
        },
        {
          "output_type": "stream",
          "text": [
            "Training until validation scores don't improve for 30 rounds.\n",
            "[50]\ttraining's binary_logloss: 0.0892277\tvalid_1's binary_logloss: 0.0892831\n",
            "[100]\ttraining's binary_logloss: 0.0584096\tvalid_1's binary_logloss: 0.0598766\n",
            "[150]\ttraining's binary_logloss: 0.0491892\tvalid_1's binary_logloss: 0.0515599\n",
            "[200]\ttraining's binary_logloss: 0.0438654\tvalid_1's binary_logloss: 0.0471535\n",
            "[250]\ttraining's binary_logloss: 0.0398491\tvalid_1's binary_logloss: 0.0438675\n",
            "[300]\ttraining's binary_logloss: 0.0364154\tvalid_1's binary_logloss: 0.0410122\n",
            "[350]\ttraining's binary_logloss: 0.0331525\tvalid_1's binary_logloss: 0.0383715\n",
            "[400]\ttraining's binary_logloss: 0.0301294\tvalid_1's binary_logloss: 0.0359607\n",
            "[450]\ttraining's binary_logloss: 0.0276933\tvalid_1's binary_logloss: 0.0340566\n",
            "[500]\ttraining's binary_logloss: 0.0254671\tvalid_1's binary_logloss: 0.0323919\n",
            "[550]\ttraining's binary_logloss: 0.0237251\tvalid_1's binary_logloss: 0.0310851\n",
            "[600]\ttraining's binary_logloss: 0.0218714\tvalid_1's binary_logloss: 0.0296877\n",
            "[650]\ttraining's binary_logloss: 0.0205318\tvalid_1's binary_logloss: 0.0287844\n",
            "[700]\ttraining's binary_logloss: 0.0190964\tvalid_1's binary_logloss: 0.0277115\n",
            "[750]\ttraining's binary_logloss: 0.0179483\tvalid_1's binary_logloss: 0.0268952\n",
            "[800]\ttraining's binary_logloss: 0.0167466\tvalid_1's binary_logloss: 0.0260222\n",
            "[850]\ttraining's binary_logloss: 0.0156406\tvalid_1's binary_logloss: 0.0252312\n",
            "[900]\ttraining's binary_logloss: 0.0146812\tvalid_1's binary_logloss: 0.0245179\n",
            "[950]\ttraining's binary_logloss: 0.013822\tvalid_1's binary_logloss: 0.0238815\n",
            "[1000]\ttraining's binary_logloss: 0.0131064\tvalid_1's binary_logloss: 0.0233336\n",
            "Did not meet early stopping. Best iteration is:\n",
            "[1000]\ttraining's binary_logloss: 0.0131064\tvalid_1's binary_logloss: 0.0233336\n",
            "Recall Score: 0.9823566727460153\n",
            "Precision Score: 0.9782067985313277\n",
            "F1 Score: 0.9802773436727267\n",
            "Threshold:  0.44052265639101235\n"
          ],
          "name": "stdout"
        },
        {
          "output_type": "execute_result",
          "data": {
            "text/html": [
              "<div>\n",
              "<style scoped>\n",
              "    .dataframe tbody tr th:only-of-type {\n",
              "        vertical-align: middle;\n",
              "    }\n",
              "\n",
              "    .dataframe tbody tr th {\n",
              "        vertical-align: top;\n",
              "    }\n",
              "\n",
              "    .dataframe thead th {\n",
              "        text-align: right;\n",
              "    }\n",
              "</style>\n",
              "<table border=\"1\" class=\"dataframe\">\n",
              "  <thead>\n",
              "    <tr style=\"text-align: right;\">\n",
              "      <th></th>\n",
              "      <th>col</th>\n",
              "      <th>imp</th>\n",
              "    </tr>\n",
              "  </thead>\n",
              "  <tbody>\n",
              "    <tr>\n",
              "      <th>20</th>\n",
              "      <td>CC_VINTAGE</td>\n",
              "      <td>2089</td>\n",
              "    </tr>\n",
              "    <tr>\n",
              "      <th>0</th>\n",
              "      <td>MCC</td>\n",
              "      <td>1668</td>\n",
              "    </tr>\n",
              "    <tr>\n",
              "      <th>8</th>\n",
              "      <td>SCITY</td>\n",
              "      <td>1495</td>\n",
              "    </tr>\n",
              "    <tr>\n",
              "      <th>6</th>\n",
              "      <td>FLAM1</td>\n",
              "      <td>1407</td>\n",
              "    </tr>\n",
              "    <tr>\n",
              "      <th>37</th>\n",
              "      <td>CURRENT_PURCH_AMT</td>\n",
              "      <td>1280</td>\n",
              "    </tr>\n",
              "    <tr>\n",
              "      <th>27</th>\n",
              "      <td>ACCT_VINTAGE</td>\n",
              "      <td>1244</td>\n",
              "    </tr>\n",
              "    <tr>\n",
              "      <th>7</th>\n",
              "      <td>STOCN</td>\n",
              "      <td>1227</td>\n",
              "    </tr>\n",
              "    <tr>\n",
              "      <th>29</th>\n",
              "      <td>BONUS_POINTS</td>\n",
              "      <td>1199</td>\n",
              "    </tr>\n",
              "    <tr>\n",
              "      <th>28</th>\n",
              "      <td>AVAILABLE_LIMIT_AMT</td>\n",
              "      <td>1085</td>\n",
              "    </tr>\n",
              "    <tr>\n",
              "      <th>33</th>\n",
              "      <td>CREDIT_USE_RATE</td>\n",
              "      <td>1044</td>\n",
              "    </tr>\n",
              "    <tr>\n",
              "      <th>34</th>\n",
              "      <td>CURRENT_FEE</td>\n",
              "      <td>1034</td>\n",
              "    </tr>\n",
              "    <tr>\n",
              "      <th>43</th>\n",
              "      <td>CHID_DIF1</td>\n",
              "      <td>1009</td>\n",
              "    </tr>\n",
              "    <tr>\n",
              "      <th>52</th>\n",
              "      <td>CHID_DIF10</td>\n",
              "      <td>918</td>\n",
              "    </tr>\n",
              "    <tr>\n",
              "      <th>10</th>\n",
              "      <td>AGNO</td>\n",
              "      <td>871</td>\n",
              "    </tr>\n",
              "    <tr>\n",
              "      <th>25</th>\n",
              "      <td>OCUP_CODE</td>\n",
              "      <td>694</td>\n",
              "    </tr>\n",
              "    <tr>\n",
              "      <th>44</th>\n",
              "      <td>CHID_DIF2</td>\n",
              "      <td>688</td>\n",
              "    </tr>\n",
              "    <tr>\n",
              "      <th>11</th>\n",
              "      <td>CATP1</td>\n",
              "      <td>612</td>\n",
              "    </tr>\n",
              "    <tr>\n",
              "      <th>36</th>\n",
              "      <td>CURRENT_INSTALLMENT_PURCH_AMT</td>\n",
              "      <td>610</td>\n",
              "    </tr>\n",
              "    <tr>\n",
              "      <th>45</th>\n",
              "      <td>CHID_DIF3</td>\n",
              "      <td>584</td>\n",
              "    </tr>\n",
              "    <tr>\n",
              "      <th>31</th>\n",
              "      <td>CREDIT_LIMIT_AMT</td>\n",
              "      <td>572</td>\n",
              "    </tr>\n",
              "    <tr>\n",
              "      <th>21</th>\n",
              "      <td>EDU_CODE</td>\n",
              "      <td>563</td>\n",
              "    </tr>\n",
              "    <tr>\n",
              "      <th>19</th>\n",
              "      <td>CC_CUST_LEVEL</td>\n",
              "      <td>527</td>\n",
              "    </tr>\n",
              "    <tr>\n",
              "      <th>42</th>\n",
              "      <td>HOUR</td>\n",
              "      <td>494</td>\n",
              "    </tr>\n",
              "    <tr>\n",
              "      <th>46</th>\n",
              "      <td>CHID_DIF4</td>\n",
              "      <td>491</td>\n",
              "    </tr>\n",
              "    <tr>\n",
              "      <th>35</th>\n",
              "      <td>CURRENT_INSTALLMENT_BAL</td>\n",
              "      <td>486</td>\n",
              "    </tr>\n",
              "    <tr>\n",
              "      <th>2</th>\n",
              "      <td>ETYMD</td>\n",
              "      <td>433</td>\n",
              "    </tr>\n",
              "    <tr>\n",
              "      <th>47</th>\n",
              "      <td>CHID_DIF5</td>\n",
              "      <td>403</td>\n",
              "    </tr>\n",
              "    <tr>\n",
              "      <th>48</th>\n",
              "      <td>CHID_DIF6</td>\n",
              "      <td>388</td>\n",
              "    </tr>\n",
              "    <tr>\n",
              "      <th>51</th>\n",
              "      <td>CHID_DIF9</td>\n",
              "      <td>366</td>\n",
              "    </tr>\n",
              "    <tr>\n",
              "      <th>49</th>\n",
              "      <td>CHID_DIF7</td>\n",
              "      <td>349</td>\n",
              "    </tr>\n",
              "    <tr>\n",
              "      <th>50</th>\n",
              "      <td>CHID_DIF8</td>\n",
              "      <td>297</td>\n",
              "    </tr>\n",
              "    <tr>\n",
              "      <th>26</th>\n",
              "      <td>POSITION_CODE</td>\n",
              "      <td>296</td>\n",
              "    </tr>\n",
              "    <tr>\n",
              "      <th>30</th>\n",
              "      <td>CC_PAY_LEVEL_CODE</td>\n",
              "      <td>288</td>\n",
              "    </tr>\n",
              "    <tr>\n",
              "      <th>3</th>\n",
              "      <td>ECFG</td>\n",
              "      <td>287</td>\n",
              "    </tr>\n",
              "    <tr>\n",
              "      <th>22</th>\n",
              "      <td>GENDER_CODE</td>\n",
              "      <td>259</td>\n",
              "    </tr>\n",
              "    <tr>\n",
              "      <th>18</th>\n",
              "      <td>APPFG</td>\n",
              "      <td>244</td>\n",
              "    </tr>\n",
              "    <tr>\n",
              "      <th>32</th>\n",
              "      <td>CREDIT_REVOLVING_RATE</td>\n",
              "      <td>237</td>\n",
              "    </tr>\n",
              "    <tr>\n",
              "      <th>17</th>\n",
              "      <td>CGDCT</td>\n",
              "      <td>232</td>\n",
              "    </tr>\n",
              "    <tr>\n",
              "      <th>15</th>\n",
              "      <td>TSCFG</td>\n",
              "      <td>220</td>\n",
              "    </tr>\n",
              "    <tr>\n",
              "      <th>41</th>\n",
              "      <td>WEEKDAY</td>\n",
              "      <td>216</td>\n",
              "    </tr>\n",
              "    <tr>\n",
              "      <th>38</th>\n",
              "      <td>LST_CYCLE_UNPAID_BAL</td>\n",
              "      <td>209</td>\n",
              "    </tr>\n",
              "    <tr>\n",
              "      <th>23</th>\n",
              "      <td>INCOME_RANGE_CODE</td>\n",
              "      <td>195</td>\n",
              "    </tr>\n",
              "    <tr>\n",
              "      <th>24</th>\n",
              "      <td>MARITAL_STATUS_CODE</td>\n",
              "      <td>191</td>\n",
              "    </tr>\n",
              "    <tr>\n",
              "      <th>1</th>\n",
              "      <td>CONTP</td>\n",
              "      <td>183</td>\n",
              "    </tr>\n",
              "    <tr>\n",
              "      <th>40</th>\n",
              "      <td>REVOLVING_INTEREST</td>\n",
              "      <td>163</td>\n",
              "    </tr>\n",
              "    <tr>\n",
              "      <th>16</th>\n",
              "      <td>LSCFG</td>\n",
              "      <td>153</td>\n",
              "    </tr>\n",
              "    <tr>\n",
              "      <th>39</th>\n",
              "      <td>REVOLVING_AMT</td>\n",
              "      <td>148</td>\n",
              "    </tr>\n",
              "    <tr>\n",
              "      <th>13</th>\n",
              "      <td>FEEFG</td>\n",
              "      <td>109</td>\n",
              "    </tr>\n",
              "    <tr>\n",
              "      <th>9</th>\n",
              "      <td>PAY_TYPE</td>\n",
              "      <td>96</td>\n",
              "    </tr>\n",
              "    <tr>\n",
              "      <th>14</th>\n",
              "      <td>FEDFG</td>\n",
              "      <td>74</td>\n",
              "    </tr>\n",
              "    <tr>\n",
              "      <th>12</th>\n",
              "      <td>CUORG</td>\n",
              "      <td>73</td>\n",
              "    </tr>\n",
              "    <tr>\n",
              "      <th>4</th>\n",
              "      <td>BNSFG</td>\n",
              "      <td>0</td>\n",
              "    </tr>\n",
              "    <tr>\n",
              "      <th>5</th>\n",
              "      <td>BNSPT</td>\n",
              "      <td>0</td>\n",
              "    </tr>\n",
              "  </tbody>\n",
              "</table>\n",
              "</div>"
            ],
            "text/plain": [
              "                              col   imp\n",
              "20                     CC_VINTAGE  2089\n",
              "0                             MCC  1668\n",
              "8                           SCITY  1495\n",
              "6                           FLAM1  1407\n",
              "37              CURRENT_PURCH_AMT  1280\n",
              "27                   ACCT_VINTAGE  1244\n",
              "7                           STOCN  1227\n",
              "29                   BONUS_POINTS  1199\n",
              "28            AVAILABLE_LIMIT_AMT  1085\n",
              "33                CREDIT_USE_RATE  1044\n",
              "34                    CURRENT_FEE  1034\n",
              "43                      CHID_DIF1  1009\n",
              "52                     CHID_DIF10   918\n",
              "10                           AGNO   871\n",
              "25                      OCUP_CODE   694\n",
              "44                      CHID_DIF2   688\n",
              "11                          CATP1   612\n",
              "36  CURRENT_INSTALLMENT_PURCH_AMT   610\n",
              "45                      CHID_DIF3   584\n",
              "31               CREDIT_LIMIT_AMT   572\n",
              "21                       EDU_CODE   563\n",
              "19                  CC_CUST_LEVEL   527\n",
              "42                           HOUR   494\n",
              "46                      CHID_DIF4   491\n",
              "35        CURRENT_INSTALLMENT_BAL   486\n",
              "2                           ETYMD   433\n",
              "47                      CHID_DIF5   403\n",
              "48                      CHID_DIF6   388\n",
              "51                      CHID_DIF9   366\n",
              "49                      CHID_DIF7   349\n",
              "50                      CHID_DIF8   297\n",
              "26                  POSITION_CODE   296\n",
              "30              CC_PAY_LEVEL_CODE   288\n",
              "3                            ECFG   287\n",
              "22                    GENDER_CODE   259\n",
              "18                          APPFG   244\n",
              "32          CREDIT_REVOLVING_RATE   237\n",
              "17                          CGDCT   232\n",
              "15                          TSCFG   220\n",
              "41                        WEEKDAY   216\n",
              "38           LST_CYCLE_UNPAID_BAL   209\n",
              "23              INCOME_RANGE_CODE   195\n",
              "24            MARITAL_STATUS_CODE   191\n",
              "1                           CONTP   183\n",
              "40             REVOLVING_INTEREST   163\n",
              "16                          LSCFG   153\n",
              "39                  REVOLVING_AMT   148\n",
              "13                          FEEFG   109\n",
              "9                        PAY_TYPE    96\n",
              "14                          FEDFG    74\n",
              "12                          CUORG    73\n",
              "4                           BNSFG     0\n",
              "5                           BNSPT     0"
            ]
          },
          "metadata": {
            "tags": []
          },
          "execution_count": 26
        }
      ]
    },
    {
      "cell_type": "markdown",
      "metadata": {
        "id": "OoLG5TjxXbEA"
      },
      "source": [
        "# Testing time difference based on Card ID"
      ]
    },
    {
      "cell_type": "markdown",
      "metadata": {
        "id": "9d0lZTK9YAKD"
      },
      "source": [
        "## Using Customer ID only (with 30 unimportance feature removed) "
      ]
    },
    {
      "cell_type": "code",
      "metadata": {
        "colab": {
          "base_uri": "https://localhost:8080/"
        },
        "id": "QPHBcetyV6-a",
        "outputId": "5a224e1b-153e-4a8a-c9fe-eff6a2b6d6f5"
      },
      "source": [
        "from google.colab import drive\n",
        "drive.mount('/content/drive')\n",
        "#匯入資料\n",
        "train_data = pd.read_csv('/content/drive/MyDrive/智金輪習Kaggle/train.csv')\n",
        "test_data = \"先不給你們\"\n",
        "#查看資料筆數\n",
        "print(\"shape of train data:\" , train_data.shape)\n",
        "#print(\"shape of test data:\" , test_data.shape)\n",
        "tmp_train_data = extend_with_detailed_time(train_data, \n",
        "  weekday = True, hour = True)\n",
        "train_tmp_data = extend_with_time_difference_features(tmp_train_data, \n",
        "  max_time_shift = 10, pivot_feature = 'CHID')\n",
        "#train_tmp_data = extend_with_time_difference_features(tmp_train_data, \n",
        "#  max_time_shift = 5, pivot_feature = 'CANO')\n",
        "preprocessed_train_data = preprocessing(train_tmp_data)\n",
        "resampled_train_data = resample(preprocessed_train_data, \n",
        "  sampling_rate=0.7, sample_type='downsample')\n",
        "removed_unimportant_feature_count = 30\n",
        "X, y = create_X_y(resampled_train_data, \n",
        "  drop_list = list(set([\"FRAUD_IND\", \"TXKEY\", \"DATETIME\", \"CANO\", \"CHID\", \"ACQIC\", \"MCHNO\", \"AGE\"] + \\\n",
        "  important_feature_table.set_index('col').index[-(removed_unimportant_feature_count):].tolist()))\n",
        ")\n",
        "val_percentage = 0.33\n",
        "x_train, x_test, y_train, y_test = train_test_split(X, y, \n",
        "  test_size=val_percentage, shuffle=True, random_state=42)\n",
        "clf = train_lgb(x_train, x_test, y_train, y_test, \n",
        "  max_depth = 8, learning_rate = 0.05, n_estimators = 1000)\n",
        "evaluate(clf, x_test, y_test)\n",
        "#important_feature_table = get_important_feature_table(clf, x_train)\n",
        "#important_feature_table"
      ],
      "execution_count": 28,
      "outputs": [
        {
          "output_type": "stream",
          "text": [
            "Drive already mounted at /content/drive; to attempt to forcibly remount, call drive.mount(\"/content/drive\", force_remount=True).\n",
            "shape of train data: (533202, 59)\n",
            "add time difference between current and 1th-last transaction\n",
            "add time difference between current and 2th-last transaction\n",
            "add time difference between current and 3th-last transaction\n",
            "add time difference between current and 4th-last transaction\n",
            "add time difference between current and 5th-last transaction\n",
            "add time difference between current and 6th-last transaction\n",
            "add time difference between current and 7th-last transaction\n",
            "add time difference between current and 8th-last transaction\n",
            "add time difference between current and 9th-last transaction\n",
            "add time difference between current and 10th-last transaction\n"
          ],
          "name": "stdout"
        },
        {
          "output_type": "stream",
          "text": [
            "/usr/local/lib/python3.6/dist-packages/lightgbm/engine.py:118: UserWarning: Found `n_estimators` in params. Will use it instead of argument\n",
            "  warnings.warn(\"Found `{}` in params. Will use it instead of argument\".format(alias))\n"
          ],
          "name": "stderr"
        },
        {
          "output_type": "stream",
          "text": [
            "Training until validation scores don't improve for 30 rounds.\n",
            "[50]\ttraining's binary_logloss: 0.0911569\tvalid_1's binary_logloss: 0.091662\n",
            "[100]\ttraining's binary_logloss: 0.0612414\tvalid_1's binary_logloss: 0.0630541\n",
            "[150]\ttraining's binary_logloss: 0.0519155\tvalid_1's binary_logloss: 0.0548417\n",
            "[200]\ttraining's binary_logloss: 0.0466882\tvalid_1's binary_logloss: 0.0504925\n",
            "[250]\ttraining's binary_logloss: 0.0422205\tvalid_1's binary_logloss: 0.0467794\n",
            "[300]\ttraining's binary_logloss: 0.0383521\tvalid_1's binary_logloss: 0.0435877\n",
            "[350]\ttraining's binary_logloss: 0.0353123\tvalid_1's binary_logloss: 0.0410903\n",
            "[400]\ttraining's binary_logloss: 0.0324583\tvalid_1's binary_logloss: 0.0387583\n",
            "[450]\ttraining's binary_logloss: 0.0299694\tvalid_1's binary_logloss: 0.0368855\n",
            "[500]\ttraining's binary_logloss: 0.0279558\tvalid_1's binary_logloss: 0.0353859\n",
            "[550]\ttraining's binary_logloss: 0.0260104\tvalid_1's binary_logloss: 0.0339417\n",
            "[600]\ttraining's binary_logloss: 0.0243362\tvalid_1's binary_logloss: 0.0326997\n",
            "[650]\ttraining's binary_logloss: 0.0227995\tvalid_1's binary_logloss: 0.0315326\n",
            "[700]\ttraining's binary_logloss: 0.0213242\tvalid_1's binary_logloss: 0.0303393\n",
            "[750]\ttraining's binary_logloss: 0.0200603\tvalid_1's binary_logloss: 0.0294313\n",
            "[800]\ttraining's binary_logloss: 0.0187518\tvalid_1's binary_logloss: 0.0283931\n",
            "[850]\ttraining's binary_logloss: 0.0175957\tvalid_1's binary_logloss: 0.0275183\n",
            "[900]\ttraining's binary_logloss: 0.0164579\tvalid_1's binary_logloss: 0.0266501\n",
            "[950]\ttraining's binary_logloss: 0.0155324\tvalid_1's binary_logloss: 0.0259471\n",
            "[1000]\ttraining's binary_logloss: 0.0147561\tvalid_1's binary_logloss: 0.025395\n",
            "Did not meet early stopping. Best iteration is:\n",
            "[1000]\ttraining's binary_logloss: 0.0147561\tvalid_1's binary_logloss: 0.025395\n",
            "Recall Score: 0.9806914598366505\n",
            "Precision Score: 0.9758936321313028\n",
            "F1 Score: 0.9782866635026103\n",
            "Threshold:  0.43357920342933753\n"
          ],
          "name": "stdout"
        }
      ]
    },
    {
      "cell_type": "markdown",
      "metadata": {
        "id": "xWDQQn8AYR4y"
      },
      "source": [
        "## Using Card ID too (with 30 unimportance feature removed) "
      ]
    },
    {
      "cell_type": "code",
      "metadata": {
        "colab": {
          "base_uri": "https://localhost:8080/"
        },
        "id": "vxDE3DRLYIpl",
        "outputId": "aab75b9e-322c-47b6-ef53-8b274777c4a2"
      },
      "source": [
        "from google.colab import drive\n",
        "drive.mount('/content/drive')\n",
        "#匯入資料\n",
        "train_data = pd.read_csv('/content/drive/MyDrive/智金輪習Kaggle/train.csv')\n",
        "test_data = \"先不給你們\"\n",
        "#查看資料筆數\n",
        "print(\"shape of train data:\" , train_data.shape)\n",
        "#print(\"shape of test data:\" , test_data.shape)\n",
        "tmp_train_data = extend_with_detailed_time(train_data, \n",
        "  weekday = True, hour = True)\n",
        "train_tmp_data = extend_with_time_difference_features(tmp_train_data, \n",
        "  max_time_shift = 10, pivot_feature = 'CHID')\n",
        "train_tmp_data = extend_with_time_difference_features(tmp_train_data, \n",
        "  max_time_shift = 5, pivot_feature = 'CANO')\n",
        "preprocessed_train_data = preprocessing(train_tmp_data)\n",
        "resampled_train_data = resample(preprocessed_train_data, \n",
        "  sampling_rate=0.7, sample_type='downsample')\n",
        "removed_unimportant_feature_count = 30\n",
        "X, y = create_X_y(resampled_train_data, \n",
        "  drop_list = list(set([\"FRAUD_IND\", \"TXKEY\", \"DATETIME\", \"CANO\", \"CHID\", \"ACQIC\", \"MCHNO\", \"AGE\"] + \\\n",
        "  important_feature_table.set_index('col').index[-(removed_unimportant_feature_count):].tolist()))\n",
        ")\n",
        "val_percentage = 0.33\n",
        "x_train, x_test, y_train, y_test = train_test_split(X, y, \n",
        "  test_size=val_percentage, shuffle=True, random_state=42)\n",
        "clf = train_lgb(x_train, x_test, y_train, y_test, \n",
        "  max_depth = 8, learning_rate = 0.05, n_estimators = 1000)\n",
        "evaluate(clf, x_test, y_test)\n",
        "#important_feature_table = get_important_feature_table(clf, x_train)\n",
        "#important_feature_table"
      ],
      "execution_count": 29,
      "outputs": [
        {
          "output_type": "stream",
          "text": [
            "Drive already mounted at /content/drive; to attempt to forcibly remount, call drive.mount(\"/content/drive\", force_remount=True).\n",
            "shape of train data: (533202, 59)\n",
            "add time difference between current and 1th-last transaction\n",
            "add time difference between current and 2th-last transaction\n",
            "add time difference between current and 3th-last transaction\n",
            "add time difference between current and 4th-last transaction\n",
            "add time difference between current and 5th-last transaction\n",
            "add time difference between current and 6th-last transaction\n",
            "add time difference between current and 7th-last transaction\n",
            "add time difference between current and 8th-last transaction\n",
            "add time difference between current and 9th-last transaction\n",
            "add time difference between current and 10th-last transaction\n",
            "add time difference between current and 1th-last transaction\n",
            "add time difference between current and 2th-last transaction\n",
            "add time difference between current and 3th-last transaction\n",
            "add time difference between current and 4th-last transaction\n",
            "add time difference between current and 5th-last transaction\n"
          ],
          "name": "stdout"
        },
        {
          "output_type": "stream",
          "text": [
            "/usr/local/lib/python3.6/dist-packages/lightgbm/engine.py:118: UserWarning: Found `n_estimators` in params. Will use it instead of argument\n",
            "  warnings.warn(\"Found `{}` in params. Will use it instead of argument\".format(alias))\n"
          ],
          "name": "stderr"
        },
        {
          "output_type": "stream",
          "text": [
            "Training until validation scores don't improve for 30 rounds.\n",
            "[50]\ttraining's binary_logloss: 0.106206\tvalid_1's binary_logloss: 0.106895\n",
            "[100]\ttraining's binary_logloss: 0.0771259\tvalid_1's binary_logloss: 0.0794538\n",
            "[150]\ttraining's binary_logloss: 0.0675126\tvalid_1's binary_logloss: 0.0709598\n",
            "[200]\ttraining's binary_logloss: 0.0617478\tvalid_1's binary_logloss: 0.0660632\n",
            "[250]\ttraining's binary_logloss: 0.0566549\tvalid_1's binary_logloss: 0.0619732\n",
            "[300]\ttraining's binary_logloss: 0.0524137\tvalid_1's binary_logloss: 0.0586813\n",
            "[350]\ttraining's binary_logloss: 0.0487457\tvalid_1's binary_logloss: 0.0559055\n",
            "[400]\ttraining's binary_logloss: 0.0455101\tvalid_1's binary_logloss: 0.0534152\n",
            "[450]\ttraining's binary_logloss: 0.0426535\tvalid_1's binary_logloss: 0.0512436\n",
            "[500]\ttraining's binary_logloss: 0.0404259\tvalid_1's binary_logloss: 0.0495829\n",
            "[550]\ttraining's binary_logloss: 0.0382912\tvalid_1's binary_logloss: 0.047974\n",
            "[600]\ttraining's binary_logloss: 0.0358686\tvalid_1's binary_logloss: 0.0460946\n",
            "[650]\ttraining's binary_logloss: 0.0339571\tvalid_1's binary_logloss: 0.0446581\n",
            "[700]\ttraining's binary_logloss: 0.0323629\tvalid_1's binary_logloss: 0.0435785\n",
            "[750]\ttraining's binary_logloss: 0.0308912\tvalid_1's binary_logloss: 0.0425347\n",
            "[800]\ttraining's binary_logloss: 0.0293654\tvalid_1's binary_logloss: 0.0414991\n",
            "[850]\ttraining's binary_logloss: 0.027794\tvalid_1's binary_logloss: 0.0403458\n",
            "[900]\ttraining's binary_logloss: 0.0264735\tvalid_1's binary_logloss: 0.0394258\n",
            "[950]\ttraining's binary_logloss: 0.0252422\tvalid_1's binary_logloss: 0.0386432\n",
            "[1000]\ttraining's binary_logloss: 0.0240283\tvalid_1's binary_logloss: 0.0377425\n",
            "Did not meet early stopping. Best iteration is:\n",
            "[1000]\ttraining's binary_logloss: 0.0240283\tvalid_1's binary_logloss: 0.0377425\n",
            "Recall Score: 0.9705812386012211\n",
            "Precision Score: 0.9655662051828185\n",
            "F1 Score: 0.9680672268907563\n",
            "Threshold:  0.42277050179772724\n"
          ],
          "name": "stdout"
        }
      ]
    },
    {
      "cell_type": "markdown",
      "metadata": {
        "id": "cnaFCne_ZUw6"
      },
      "source": [
        "# Reducing Feature Count"
      ]
    },
    {
      "cell_type": "markdown",
      "metadata": {
        "id": "YJSjfC9QZbYi"
      },
      "source": [
        "## remove 5 unimportant features  "
      ]
    },
    {
      "cell_type": "code",
      "metadata": {
        "colab": {
          "base_uri": "https://localhost:8080/"
        },
        "id": "rNTKuY6XZfN7",
        "outputId": "15bbc88c-17fd-4b22-81b4-8fc4c3b03e43"
      },
      "source": [
        "from google.colab import drive\n",
        "drive.mount('/content/drive')\n",
        "#匯入資料\n",
        "train_data = pd.read_csv('/content/drive/MyDrive/智金輪習Kaggle/train.csv')\n",
        "test_data = \"先不給你們\"\n",
        "#查看資料筆數\n",
        "print(\"shape of train data:\" , train_data.shape)\n",
        "#print(\"shape of test data:\" , test_data.shape)\n",
        "tmp_train_data = extend_with_detailed_time(train_data, \n",
        "  weekday = True, hour = True)\n",
        "train_tmp_data = extend_with_time_difference_features(tmp_train_data, \n",
        "  max_time_shift = 10, pivot_feature = 'CHID')\n",
        "#train_tmp_data = extend_with_time_difference_features(tmp_train_data, \n",
        "#  max_time_shift = 5, pivot_feature = 'CANO')\n",
        "preprocessed_train_data = preprocessing(train_tmp_data)\n",
        "resampled_train_data = resample(preprocessed_train_data, \n",
        "  sampling_rate=0.7, sample_type='downsample')\n",
        "removed_unimportant_feature_count = 5\n",
        "X, y = create_X_y(resampled_train_data, \n",
        "  drop_list = list(set([\"FRAUD_IND\", \"TXKEY\", \"DATETIME\", \"CANO\", \"CHID\", \"ACQIC\", \"MCHNO\", \"AGE\"] + \\\n",
        "  important_feature_table.set_index('col').index[-(removed_unimportant_feature_count):].tolist()))\n",
        ")\n",
        "val_percentage = 0.33\n",
        "x_train, x_test, y_train, y_test = train_test_split(X, y, \n",
        "  test_size=val_percentage, shuffle=True, random_state=42)\n",
        "clf = train_lgb(x_train, x_test, y_train, y_test, \n",
        "  max_depth = 8, learning_rate = 0.05, n_estimators = 1000)\n",
        "evaluate(clf, x_test, y_test)\n",
        "#important_feature_table = get_important_feature_table(clf, x_train)\n",
        "#important_feature_table"
      ],
      "execution_count": 30,
      "outputs": [
        {
          "output_type": "stream",
          "text": [
            "Drive already mounted at /content/drive; to attempt to forcibly remount, call drive.mount(\"/content/drive\", force_remount=True).\n",
            "shape of train data: (533202, 59)\n",
            "add time difference between current and 1th-last transaction\n",
            "add time difference between current and 2th-last transaction\n",
            "add time difference between current and 3th-last transaction\n",
            "add time difference between current and 4th-last transaction\n",
            "add time difference between current and 5th-last transaction\n",
            "add time difference between current and 6th-last transaction\n",
            "add time difference between current and 7th-last transaction\n",
            "add time difference between current and 8th-last transaction\n",
            "add time difference between current and 9th-last transaction\n",
            "add time difference between current and 10th-last transaction\n"
          ],
          "name": "stdout"
        },
        {
          "output_type": "stream",
          "text": [
            "/usr/local/lib/python3.6/dist-packages/lightgbm/engine.py:118: UserWarning: Found `n_estimators` in params. Will use it instead of argument\n",
            "  warnings.warn(\"Found `{}` in params. Will use it instead of argument\".format(alias))\n"
          ],
          "name": "stderr"
        },
        {
          "output_type": "stream",
          "text": [
            "Training until validation scores don't improve for 30 rounds.\n",
            "[50]\ttraining's binary_logloss: 0.0892547\tvalid_1's binary_logloss: 0.0893711\n",
            "[100]\ttraining's binary_logloss: 0.0583426\tvalid_1's binary_logloss: 0.0599961\n",
            "[150]\ttraining's binary_logloss: 0.0491506\tvalid_1's binary_logloss: 0.0518282\n",
            "[200]\ttraining's binary_logloss: 0.0445937\tvalid_1's binary_logloss: 0.0480088\n",
            "[250]\ttraining's binary_logloss: 0.0403131\tvalid_1's binary_logloss: 0.0444603\n",
            "[300]\ttraining's binary_logloss: 0.0367402\tvalid_1's binary_logloss: 0.0415238\n",
            "[350]\ttraining's binary_logloss: 0.0336079\tvalid_1's binary_logloss: 0.0389672\n",
            "[400]\ttraining's binary_logloss: 0.0310796\tvalid_1's binary_logloss: 0.0369998\n",
            "[450]\ttraining's binary_logloss: 0.0281554\tvalid_1's binary_logloss: 0.0346962\n",
            "[500]\ttraining's binary_logloss: 0.0261544\tvalid_1's binary_logloss: 0.0331458\n",
            "[550]\ttraining's binary_logloss: 0.0244262\tvalid_1's binary_logloss: 0.0318157\n",
            "[600]\ttraining's binary_logloss: 0.0226625\tvalid_1's binary_logloss: 0.0304512\n",
            "[650]\ttraining's binary_logloss: 0.0210472\tvalid_1's binary_logloss: 0.0292044\n",
            "[700]\ttraining's binary_logloss: 0.0194498\tvalid_1's binary_logloss: 0.0280247\n",
            "[750]\ttraining's binary_logloss: 0.0180604\tvalid_1's binary_logloss: 0.0269781\n",
            "[800]\ttraining's binary_logloss: 0.0168921\tvalid_1's binary_logloss: 0.0260848\n",
            "[850]\ttraining's binary_logloss: 0.0158718\tvalid_1's binary_logloss: 0.0252985\n",
            "[900]\ttraining's binary_logloss: 0.0147324\tvalid_1's binary_logloss: 0.0243606\n",
            "[950]\ttraining's binary_logloss: 0.0137222\tvalid_1's binary_logloss: 0.0235352\n",
            "[1000]\ttraining's binary_logloss: 0.0129358\tvalid_1's binary_logloss: 0.0229676\n",
            "Did not meet early stopping. Best iteration is:\n",
            "[1000]\ttraining's binary_logloss: 0.0129358\tvalid_1's binary_logloss: 0.0229676\n",
            "Recall Score: 0.9822377289667751\n",
            "Precision Score: 0.9790933881357942\n",
            "F1 Score: 0.9806630380999505\n",
            "Threshold:  0.4594962755737511\n"
          ],
          "name": "stdout"
        }
      ]
    },
    {
      "cell_type": "markdown",
      "metadata": {
        "id": "50-QP_bift0L"
      },
      "source": [
        "## remove 15 unimportant features  "
      ]
    },
    {
      "cell_type": "code",
      "metadata": {
        "colab": {
          "base_uri": "https://localhost:8080/"
        },
        "id": "S2RQm5sRfm0p",
        "outputId": "1b278cfe-2c7f-418d-8acb-71a4c073a494"
      },
      "source": [
        "from google.colab import drive\n",
        "drive.mount('/content/drive')\n",
        "#匯入資料\n",
        "train_data = pd.read_csv('/content/drive/MyDrive/智金輪習Kaggle/train.csv')\n",
        "test_data = \"先不給你們\"\n",
        "#查看資料筆數\n",
        "print(\"shape of train data:\" , train_data.shape)\n",
        "#print(\"shape of test data:\" , test_data.shape)\n",
        "tmp_train_data = extend_with_detailed_time(train_data, \n",
        "  weekday = True, hour = True)\n",
        "train_tmp_data = extend_with_time_difference_features(tmp_train_data, \n",
        "  max_time_shift = 10, pivot_feature = 'CHID')\n",
        "#train_tmp_data = extend_with_time_difference_features(tmp_train_data, \n",
        "#  max_time_shift = 5, pivot_feature = 'CANO')\n",
        "preprocessed_train_data = preprocessing(train_tmp_data)\n",
        "resampled_train_data = resample(preprocessed_train_data, \n",
        "  sampling_rate=0.7, sample_type='downsample')\n",
        "removed_unimportant_feature_count = 15\n",
        "X, y = create_X_y(resampled_train_data, \n",
        "  drop_list = list(set([\"FRAUD_IND\", \"TXKEY\", \"DATETIME\", \"CANO\", \"CHID\", \"ACQIC\", \"MCHNO\", \"AGE\"] + \\\n",
        "  important_feature_table.set_index('col').index[-(removed_unimportant_feature_count):].tolist()))\n",
        ")\n",
        "val_percentage = 0.33\n",
        "x_train, x_test, y_train, y_test = train_test_split(X, y, \n",
        "  test_size=val_percentage, shuffle=True, random_state=42)\n",
        "clf = train_lgb(x_train, x_test, y_train, y_test, \n",
        "  max_depth = 8, learning_rate = 0.05, n_estimators = 1000)\n",
        "evaluate(clf, x_test, y_test)\n",
        "#important_feature_table = get_important_feature_table(clf, x_train)\n",
        "#important_feature_table"
      ],
      "execution_count": 36,
      "outputs": [
        {
          "output_type": "stream",
          "text": [
            "Drive already mounted at /content/drive; to attempt to forcibly remount, call drive.mount(\"/content/drive\", force_remount=True).\n",
            "shape of train data: (533202, 59)\n",
            "add time difference between current and 1th-last transaction\n",
            "add time difference between current and 2th-last transaction\n",
            "add time difference between current and 3th-last transaction\n",
            "add time difference between current and 4th-last transaction\n",
            "add time difference between current and 5th-last transaction\n",
            "add time difference between current and 6th-last transaction\n",
            "add time difference between current and 7th-last transaction\n",
            "add time difference between current and 8th-last transaction\n",
            "add time difference between current and 9th-last transaction\n",
            "add time difference between current and 10th-last transaction\n"
          ],
          "name": "stdout"
        },
        {
          "output_type": "stream",
          "text": [
            "/usr/local/lib/python3.6/dist-packages/lightgbm/engine.py:118: UserWarning: Found `n_estimators` in params. Will use it instead of argument\n",
            "  warnings.warn(\"Found `{}` in params. Will use it instead of argument\".format(alias))\n"
          ],
          "name": "stderr"
        },
        {
          "output_type": "stream",
          "text": [
            "Training until validation scores don't improve for 30 rounds.\n",
            "[50]\ttraining's binary_logloss: 0.0895316\tvalid_1's binary_logloss: 0.0896586\n",
            "[100]\ttraining's binary_logloss: 0.0586199\tvalid_1's binary_logloss: 0.0603031\n",
            "[150]\ttraining's binary_logloss: 0.0492577\tvalid_1's binary_logloss: 0.051909\n",
            "[200]\ttraining's binary_logloss: 0.0440942\tvalid_1's binary_logloss: 0.0475568\n",
            "[250]\ttraining's binary_logloss: 0.0401819\tvalid_1's binary_logloss: 0.044337\n",
            "[300]\ttraining's binary_logloss: 0.0364765\tvalid_1's binary_logloss: 0.0414256\n",
            "[350]\ttraining's binary_logloss: 0.0330621\tvalid_1's binary_logloss: 0.0386661\n",
            "[400]\ttraining's binary_logloss: 0.0302222\tvalid_1's binary_logloss: 0.0363878\n",
            "[450]\ttraining's binary_logloss: 0.0278304\tvalid_1's binary_logloss: 0.0345247\n",
            "[500]\ttraining's binary_logloss: 0.0254633\tvalid_1's binary_logloss: 0.0326841\n",
            "[550]\ttraining's binary_logloss: 0.0237583\tvalid_1's binary_logloss: 0.0314527\n",
            "[600]\ttraining's binary_logloss: 0.0219331\tvalid_1's binary_logloss: 0.030014\n",
            "[650]\ttraining's binary_logloss: 0.0204557\tvalid_1's binary_logloss: 0.0288653\n",
            "[700]\ttraining's binary_logloss: 0.0190873\tvalid_1's binary_logloss: 0.0278114\n",
            "[750]\ttraining's binary_logloss: 0.0178438\tvalid_1's binary_logloss: 0.0269591\n",
            "[800]\ttraining's binary_logloss: 0.0167314\tvalid_1's binary_logloss: 0.0261626\n",
            "[850]\ttraining's binary_logloss: 0.0156116\tvalid_1's binary_logloss: 0.0252722\n",
            "[900]\ttraining's binary_logloss: 0.0145887\tvalid_1's binary_logloss: 0.0244728\n",
            "[950]\ttraining's binary_logloss: 0.013802\tvalid_1's binary_logloss: 0.0239545\n",
            "[1000]\ttraining's binary_logloss: 0.0129653\tvalid_1's binary_logloss: 0.0233367\n",
            "Did not meet early stopping. Best iteration is:\n",
            "[1000]\ttraining's binary_logloss: 0.0129653\tvalid_1's binary_logloss: 0.0233367\n",
            "Recall Score: 0.9823170248196019\n",
            "Precision Score: 0.977048663143781\n",
            "F1 Score: 0.979675761170423\n",
            "Threshold:  0.4292969024693516\n"
          ],
          "name": "stdout"
        }
      ]
    },
    {
      "cell_type": "markdown",
      "metadata": {
        "id": "d5nQdYn9ZYoh"
      },
      "source": [
        "## remove 30 unimportant features  "
      ]
    },
    {
      "cell_type": "code",
      "metadata": {
        "colab": {
          "base_uri": "https://localhost:8080/"
        },
        "id": "l9goAle8ZXnV",
        "outputId": "d1e4b409-8b96-46c7-8b28-5493dd1f9394"
      },
      "source": [
        "from google.colab import drive\n",
        "drive.mount('/content/drive')\n",
        "#匯入資料\n",
        "train_data = pd.read_csv('/content/drive/MyDrive/智金輪習Kaggle/train.csv')\n",
        "test_data = \"先不給你們\"\n",
        "#查看資料筆數\n",
        "print(\"shape of train data:\" , train_data.shape)\n",
        "#print(\"shape of test data:\" , test_data.shape)\n",
        "tmp_train_data = extend_with_detailed_time(train_data, \n",
        "  weekday = True, hour = True)\n",
        "train_tmp_data = extend_with_time_difference_features(tmp_train_data, \n",
        "  max_time_shift = 10, pivot_feature = 'CHID')\n",
        "#train_tmp_data = extend_with_time_difference_features(tmp_train_data, \n",
        "#  max_time_shift = 5, pivot_feature = 'CANO')\n",
        "preprocessed_train_data = preprocessing(train_tmp_data)\n",
        "resampled_train_data = resample(preprocessed_train_data, \n",
        "  sampling_rate=0.7, sample_type='downsample')\n",
        "removed_unimportant_feature_count = 30\n",
        "X, y = create_X_y(resampled_train_data, \n",
        "  drop_list = list(set([\"FRAUD_IND\", \"TXKEY\", \"DATETIME\", \"CANO\", \"CHID\", \"ACQIC\", \"MCHNO\", \"AGE\"] + \\\n",
        "  important_feature_table.set_index('col').index[-(removed_unimportant_feature_count):].tolist()))\n",
        ")\n",
        "val_percentage = 0.33\n",
        "x_train, x_test, y_train, y_test = train_test_split(X, y, \n",
        "  test_size=val_percentage, shuffle=True, random_state=42)\n",
        "clf = train_lgb(x_train, x_test, y_train, y_test, \n",
        "  max_depth = 8, learning_rate = 0.05, n_estimators = 1000)\n",
        "evaluate(clf, x_test, y_test)\n",
        "#important_feature_table = get_important_feature_table(clf, x_train)\n",
        "#important_feature_table"
      ],
      "execution_count": 31,
      "outputs": [
        {
          "output_type": "stream",
          "text": [
            "Drive already mounted at /content/drive; to attempt to forcibly remount, call drive.mount(\"/content/drive\", force_remount=True).\n",
            "shape of train data: (533202, 59)\n",
            "add time difference between current and 1th-last transaction\n",
            "add time difference between current and 2th-last transaction\n",
            "add time difference between current and 3th-last transaction\n",
            "add time difference between current and 4th-last transaction\n",
            "add time difference between current and 5th-last transaction\n",
            "add time difference between current and 6th-last transaction\n",
            "add time difference between current and 7th-last transaction\n",
            "add time difference between current and 8th-last transaction\n",
            "add time difference between current and 9th-last transaction\n",
            "add time difference between current and 10th-last transaction\n"
          ],
          "name": "stdout"
        },
        {
          "output_type": "stream",
          "text": [
            "/usr/local/lib/python3.6/dist-packages/lightgbm/engine.py:118: UserWarning: Found `n_estimators` in params. Will use it instead of argument\n",
            "  warnings.warn(\"Found `{}` in params. Will use it instead of argument\".format(alias))\n"
          ],
          "name": "stderr"
        },
        {
          "output_type": "stream",
          "text": [
            "Training until validation scores don't improve for 30 rounds.\n",
            "[50]\ttraining's binary_logloss: 0.0911569\tvalid_1's binary_logloss: 0.091662\n",
            "[100]\ttraining's binary_logloss: 0.0612414\tvalid_1's binary_logloss: 0.0630541\n",
            "[150]\ttraining's binary_logloss: 0.0519155\tvalid_1's binary_logloss: 0.0548417\n",
            "[200]\ttraining's binary_logloss: 0.0466882\tvalid_1's binary_logloss: 0.0504925\n",
            "[250]\ttraining's binary_logloss: 0.0422205\tvalid_1's binary_logloss: 0.0467794\n",
            "[300]\ttraining's binary_logloss: 0.0383521\tvalid_1's binary_logloss: 0.0435877\n",
            "[350]\ttraining's binary_logloss: 0.0353123\tvalid_1's binary_logloss: 0.0410903\n",
            "[400]\ttraining's binary_logloss: 0.0324583\tvalid_1's binary_logloss: 0.0387583\n",
            "[450]\ttraining's binary_logloss: 0.0299694\tvalid_1's binary_logloss: 0.0368855\n",
            "[500]\ttraining's binary_logloss: 0.0279558\tvalid_1's binary_logloss: 0.0353859\n",
            "[550]\ttraining's binary_logloss: 0.0260104\tvalid_1's binary_logloss: 0.0339417\n",
            "[600]\ttraining's binary_logloss: 0.0243362\tvalid_1's binary_logloss: 0.0326997\n",
            "[650]\ttraining's binary_logloss: 0.0227995\tvalid_1's binary_logloss: 0.0315326\n",
            "[700]\ttraining's binary_logloss: 0.0213242\tvalid_1's binary_logloss: 0.0303393\n",
            "[750]\ttraining's binary_logloss: 0.0200603\tvalid_1's binary_logloss: 0.0294313\n",
            "[800]\ttraining's binary_logloss: 0.0187518\tvalid_1's binary_logloss: 0.0283931\n",
            "[850]\ttraining's binary_logloss: 0.0175957\tvalid_1's binary_logloss: 0.0275183\n",
            "[900]\ttraining's binary_logloss: 0.0164579\tvalid_1's binary_logloss: 0.0266501\n",
            "[950]\ttraining's binary_logloss: 0.0155324\tvalid_1's binary_logloss: 0.0259471\n",
            "[1000]\ttraining's binary_logloss: 0.0147561\tvalid_1's binary_logloss: 0.025395\n",
            "Did not meet early stopping. Best iteration is:\n",
            "[1000]\ttraining's binary_logloss: 0.0147561\tvalid_1's binary_logloss: 0.025395\n",
            "Recall Score: 0.9806914598366505\n",
            "Precision Score: 0.9758936321313028\n",
            "F1 Score: 0.9782866635026103\n",
            "Threshold:  0.43357920342933753\n"
          ],
          "name": "stdout"
        }
      ]
    },
    {
      "cell_type": "markdown",
      "metadata": {
        "id": "ztJGDxaohLR3"
      },
      "source": [
        "# Generate Testing Result "
      ]
    },
    {
      "cell_type": "markdown",
      "metadata": {
        "id": "KOogJS07hW4W"
      },
      "source": [
        "# Copy the training pipeline of the best performing model here  "
      ]
    },
    {
      "cell_type": "code",
      "metadata": {
        "id": "gq19_Oiuheri"
      },
      "source": [
        "from google.colab import drive\n",
        "drive.mount('/content/drive')\n",
        "#匯入資料\n",
        "train_data = pd.read_csv('/content/drive/MyDrive/智金輪習Kaggle/train.csv')\n",
        "test_data = \"先不給你們\"\n",
        "#查看資料筆數\n",
        "print(\"shape of train data:\" , train_data.shape)\n",
        "#print(\"shape of test data:\" , test_data.shape)\n",
        "tmp_train_data = extend_with_detailed_time(train_data, \n",
        "  weekday = True, hour = True)\n",
        "train_tmp_data = extend_with_time_difference_features(tmp_train_data, \n",
        "  max_time_shift = 20, pivot_feature = 'CHID')\n",
        "#train_tmp_data = extend_with_time_difference_features(tmp_train_data, \n",
        "#  max_time_shift = 5, pivot_feature = 'CANO')\n",
        "preprocessed_train_data = preprocessing(train_tmp_data)\n",
        "resampled_train_data = resample(preprocessed_train_data, \n",
        "  sampling_rate=0.7, sample_type='downsample')\n",
        "removed_unimportant_feature_count = 5\n",
        "X, y = create_X_y(resampled_train_data, \n",
        "  drop_list = list(set([\"FRAUD_IND\", \"TXKEY\", \"DATETIME\", \"CANO\", \"CHID\", \"ACQIC\", \"MCHNO\", \"AGE\"] + \\\n",
        "  important_feature_table.set_index('col').index[-(removed_unimportant_feature_count):].tolist()))\n",
        ")\n",
        "val_percentage = 0.33\n",
        "x_train, x_test, y_train, y_test = train_test_split(X, y, \n",
        "  test_size=val_percentage, shuffle=True, random_state=42)\n",
        "clf = train_lgb(x_train, x_test, y_train, y_test, \n",
        "  max_depth = 8, learning_rate = 0.05, n_estimators = 1000)\n",
        "evaluate(clf, x_test, y_test)\n",
        "#important_feature_table = get_important_feature_table(clf, x_train)\n",
        "#important_feature_table"
      ],
      "execution_count": null,
      "outputs": []
    },
    {
      "cell_type": "markdown",
      "metadata": {
        "id": "-jk6jX-lhh42"
      },
      "source": [
        "## Generate testing result "
      ]
    },
    {
      "cell_type": "code",
      "metadata": {
        "colab": {
          "base_uri": "https://localhost:8080/"
        },
        "id": "Iz7bSHYGZmOs",
        "outputId": "72cf78de-bc19-4887-e9da-65a91db4719c"
      },
      "source": [
        "test_data = pd.read_csv('/content/drive/MyDrive/智金輪習Kaggle/test.csv')\n",
        "print(\"shape of test data:\" , test_data.shape)\n",
        "tmp_test_data = extend_with_detailed_time(test_data, \n",
        "  weekday = True, hour = True)\n",
        "tmp_test_data = extend_with_time_difference_features(tmp_test_data, \n",
        "  max_time_shift = 20, pivot_feature = 'CHID')\n",
        "\n",
        "preprocessed_test_data = preprocessing(tmp_test_data)\n",
        "\n",
        "removed_unimportant_feature_count = 5\n",
        "\n",
        "def create_X(data, drop_list = []):\n",
        "  if drop_list:\n",
        "    return data.drop(drop_list, 1)\n",
        "  else:\n",
        "    return data\n",
        "\n",
        "X = create_X(preprocessed_test_data, \n",
        "  drop_list = list(set([\"TXKEY\", \"DATETIME\", \"CANO\", \"CHID\", \"ACQIC\", \"MCHNO\", \"AGE\"] + \\\n",
        "  important_feature_table.set_index('col').index[-(removed_unimportant_feature_count):].tolist()))\n",
        ")\n",
        "\n",
        "y_pred = clf.predict(X)\n",
        "threshold = 0.4981942164802951\n",
        "y_result = (y_pred > threshold).astype(int) "
      ],
      "execution_count": 40,
      "outputs": [
        {
          "output_type": "stream",
          "text": [
            "shape of test data: (472335, 58)\n",
            "add time difference between current and 1th-last transaction\n",
            "add time difference between current and 2th-last transaction\n",
            "add time difference between current and 3th-last transaction\n",
            "add time difference between current and 4th-last transaction\n",
            "add time difference between current and 5th-last transaction\n",
            "add time difference between current and 6th-last transaction\n",
            "add time difference between current and 7th-last transaction\n",
            "add time difference between current and 8th-last transaction\n",
            "add time difference between current and 9th-last transaction\n",
            "add time difference between current and 10th-last transaction\n",
            "add time difference between current and 11th-last transaction\n",
            "add time difference between current and 12th-last transaction\n",
            "add time difference between current and 13th-last transaction\n",
            "add time difference between current and 14th-last transaction\n",
            "add time difference between current and 15th-last transaction\n",
            "add time difference between current and 16th-last transaction\n",
            "add time difference between current and 17th-last transaction\n",
            "add time difference between current and 18th-last transaction\n",
            "add time difference between current and 19th-last transaction\n",
            "add time difference between current and 20th-last transaction\n"
          ],
          "name": "stdout"
        }
      ]
    },
    {
      "cell_type": "code",
      "metadata": {
        "id": "FpQ1QUVMiCBL"
      },
      "source": [
        "y_pred = clf.predict(X)\n",
        "threshold = 0.4981942164802951\n",
        "y_result = (y_pred > threshold).astype(int).T\n",
        "result_table = pd.DataFrame([test_data['TXKEY'], y_result]).T\n",
        "result_table.columns = ['TXKEY', 'FRAUD_IND']\n",
        "#result_table = result_table.set_index('TXKEY')\n",
        "result_table.to_csv('submission.csv')"
      ],
      "execution_count": 54,
      "outputs": []
    },
    {
      "cell_type": "code",
      "metadata": {
        "colab": {
          "base_uri": "https://localhost:8080/"
        },
        "id": "k920UcmKpNII",
        "outputId": "cd15d26c-ba32-4ef2-999b-552a7ba0e91d"
      },
      "source": [
        "print(\"imbalance rate of train data:\", train_data['FRAUD_IND'].mean())"
      ],
      "execution_count": 56,
      "outputs": [
        {
          "output_type": "stream",
          "text": [
            "imbalance_rate of train data: 0.14388730724941018\n"
          ],
          "name": "stdout"
        }
      ]
    },
    {
      "cell_type": "code",
      "metadata": {
        "colab": {
          "base_uri": "https://localhost:8080/"
        },
        "id": "Wp3ane7hpZ1A",
        "outputId": "7addeccb-1ac6-44c6-aee1-75a7d6605434"
      },
      "source": [
        "for threshold in [0.9, 0.95, 1.0]:\n",
        "  print('threshold:', threshold)\n",
        "  y_result = (y_pred > threshold).astype(int).T\n",
        "  result_table = pd.DataFrame([test_data['TXKEY'], y_result]).T\n",
        "  result_table.columns = ['TXKEY', 'FRAUD_IND']\n",
        "  print(\"imbalance rate of test data:\", result_table['FRAUD_IND'].mean())"
      ],
      "execution_count": 59,
      "outputs": [
        {
          "output_type": "stream",
          "text": [
            "threshold: 0.9\n",
            "imbalance rate of test data: 0.2434373908348947\n",
            "threshold: 0.95\n",
            "imbalance rate of test data: 0.17955264801465062\n",
            "threshold: 1.0\n",
            "imbalance rate of test data: 0.0\n"
          ],
          "name": "stdout"
        }
      ]
    },
    {
      "cell_type": "code",
      "metadata": {
        "colab": {
          "base_uri": "https://localhost:8080/"
        },
        "id": "Swbx7Vb7pUw3",
        "outputId": "db7eae5f-6f1f-4c10-de0b-538db3e2a90a"
      },
      "source": [
        ""
      ],
      "execution_count": 57,
      "outputs": [
        {
          "output_type": "stream",
          "text": [
            "imbalance rate of test data: 0.4797103750516053\n"
          ],
          "name": "stdout"
        }
      ]
    },
    {
      "cell_type": "code",
      "metadata": {
        "id": "1IzLoDAajyBd"
      },
      "source": [
        "result_table.to_csv('submission.csv')"
      ],
      "execution_count": 53,
      "outputs": []
    },
    {
      "cell_type": "code",
      "metadata": {
        "id": "chgnUF-zjeFt"
      },
      "source": [
        ""
      ],
      "execution_count": 45,
      "outputs": []
    },
    {
      "cell_type": "code",
      "metadata": {
        "id": "d2JW2UpHj6YZ"
      },
      "source": [
        ""
      ],
      "execution_count": 47,
      "outputs": []
    },
    {
      "cell_type": "code",
      "metadata": {
        "colab": {
          "base_uri": "https://localhost:8080/",
          "height": 410
        },
        "id": "Q5fmFRiLi7cL",
        "outputId": "b2d7ca81-a300-45d1-a098-914c4d16d71d"
      },
      "source": [
        ""
      ],
      "execution_count": 48,
      "outputs": [
        {
          "output_type": "execute_result",
          "data": {
            "text/html": [
              "<div>\n",
              "<style scoped>\n",
              "    .dataframe tbody tr th:only-of-type {\n",
              "        vertical-align: middle;\n",
              "    }\n",
              "\n",
              "    .dataframe tbody tr th {\n",
              "        vertical-align: top;\n",
              "    }\n",
              "\n",
              "    .dataframe thead th {\n",
              "        text-align: right;\n",
              "    }\n",
              "</style>\n",
              "<table border=\"1\" class=\"dataframe\">\n",
              "  <thead>\n",
              "    <tr style=\"text-align: right;\">\n",
              "      <th></th>\n",
              "      <th>TXKEY</th>\n",
              "      <th>FRAUD_IND</th>\n",
              "    </tr>\n",
              "  </thead>\n",
              "  <tbody>\n",
              "    <tr>\n",
              "      <th>0</th>\n",
              "      <td>ES0100920180318AABPO</td>\n",
              "      <td>0</td>\n",
              "    </tr>\n",
              "    <tr>\n",
              "      <th>1</th>\n",
              "      <td>ES0100A20180318AABQO</td>\n",
              "      <td>0</td>\n",
              "    </tr>\n",
              "    <tr>\n",
              "      <th>2</th>\n",
              "      <td>VS0I00120180302AABVX</td>\n",
              "      <td>1</td>\n",
              "    </tr>\n",
              "    <tr>\n",
              "      <th>3</th>\n",
              "      <td>VS0I00120180302AACO5</td>\n",
              "      <td>1</td>\n",
              "    </tr>\n",
              "    <tr>\n",
              "      <th>4</th>\n",
              "      <td>VS0I00120180319AABMI</td>\n",
              "      <td>1</td>\n",
              "    </tr>\n",
              "    <tr>\n",
              "      <th>...</th>\n",
              "      <td>...</td>\n",
              "      <td>...</td>\n",
              "    </tr>\n",
              "    <tr>\n",
              "      <th>472330</th>\n",
              "      <td>NC0100F20180320AAHOX</td>\n",
              "      <td>0</td>\n",
              "    </tr>\n",
              "    <tr>\n",
              "      <th>472331</th>\n",
              "      <td>NC0101020180321AAG1V</td>\n",
              "      <td>0</td>\n",
              "    </tr>\n",
              "    <tr>\n",
              "      <th>472332</th>\n",
              "      <td>NC0100620180330AAIX1</td>\n",
              "      <td>0</td>\n",
              "    </tr>\n",
              "    <tr>\n",
              "      <th>472333</th>\n",
              "      <td>NC0100720180331AADJU</td>\n",
              "      <td>0</td>\n",
              "    </tr>\n",
              "    <tr>\n",
              "      <th>472334</th>\n",
              "      <td>NC0100720180331AAJMB</td>\n",
              "      <td>1</td>\n",
              "    </tr>\n",
              "  </tbody>\n",
              "</table>\n",
              "<p>472335 rows × 2 columns</p>\n",
              "</div>"
            ],
            "text/plain": [
              "                       TXKEY FRAUD_IND\n",
              "0       ES0100920180318AABPO         0\n",
              "1       ES0100A20180318AABQO         0\n",
              "2       VS0I00120180302AABVX         1\n",
              "3       VS0I00120180302AACO5         1\n",
              "4       VS0I00120180319AABMI         1\n",
              "...                      ...       ...\n",
              "472330  NC0100F20180320AAHOX         0\n",
              "472331  NC0101020180321AAG1V         0\n",
              "472332  NC0100620180330AAIX1         0\n",
              "472333  NC0100720180331AADJU         0\n",
              "472334  NC0100720180331AAJMB         1\n",
              "\n",
              "[472335 rows x 2 columns]"
            ]
          },
          "metadata": {
            "tags": []
          },
          "execution_count": 48
        }
      ]
    },
    {
      "cell_type": "code",
      "metadata": {
        "id": "nv4w7ndqkENX"
      },
      "source": [
        ""
      ],
      "execution_count": null,
      "outputs": []
    }
  ]
}